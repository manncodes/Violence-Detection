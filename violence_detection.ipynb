{
 "cells": [
  {
   "cell_type": "markdown",
   "metadata": {
    "colab_type": "text",
    "id": "UVXa7uMnOlkp"
   },
   "source": [
    "## Imports"
   ]
  },
  {
   "cell_type": "code",
   "execution_count": null,
   "metadata": {
    "colab": {
     "base_uri": "https://localhost:8080/",
     "height": 34
    },
    "colab_type": "code",
    "id": "oDfDnlliPMd-",
    "outputId": "7582c7ed-2ba2-4164-e043-d0c8d31ba19f"
   },
   "outputs": [],
   "source": [
    "%matplotlib inline\n",
    "import cv2\n",
    "import os\n",
    "import numpy as np\n",
    "import keras\n",
    "import matplotlib.pyplot as plt\n",
    "import download\n",
    "from random import shuffle\n",
    "from keras.applications import VGG16\n",
    "from keras import backend as K\n",
    "from keras.models import Model, Sequential\n",
    "from keras.layers import Input\n",
    "from keras.layers import LSTM\n",
    "from keras.layers import Dense, Activation\n",
    "import sys\n",
    "import h5py"
   ]
  },
  {
   "cell_type": "code",
   "execution_count": 2,
   "metadata": {
    "colab": {
     "base_uri": "https://localhost:8080/",
     "height": 34
    },
    "colab_type": "code",
    "id": "kFU6Qg8mPXvv",
    "outputId": "04a2d803-e425-4335-94e8-71e91d05d6b1"
   },
   "outputs": [
    {
     "data": {
      "text/plain": [
       "'2.2.4'"
      ]
     },
     "execution_count": 2,
     "metadata": {
      "tags": []
     },
     "output_type": "execute_result"
    }
   ],
   "source": [
    "keras.__version__"
   ]
  },
  {
   "cell_type": "markdown",
   "metadata": {
    "colab_type": "text",
    "id": "v6pf1l28PzIO"
   },
   "source": [
    "## Helper Functions"
   ]
  },
  {
   "cell_type": "markdown",
   "metadata": {
    "colab_type": "text",
    "id": "WKnyJkf8PzxE"
   },
   "source": [
    "We will use the function ```print_progress``` to print the amount of videos processed and ```download_data``` to download the datasets"
   ]
  },
  {
   "cell_type": "code",
   "execution_count": 0,
   "metadata": {
    "colab": {},
    "colab_type": "code",
    "id": "qnafWmS7P3CG"
   },
   "outputs": [],
   "source": [
    "def print_progress(count, max_count):\n",
    "    # Percentage completion.\n",
    "    pct_complete = count / max_count\n",
    "\n",
    "    # Status-message. Note the \\r which means the line should\n",
    "    # overwrite itself.\n",
    "    msg = \"\\r- Progress: {0:.1%}\".format(pct_complete)\n",
    "\n",
    "    # Print it.\n",
    "    sys.stdout.write(msg)\n",
    "    sys.stdout.flush()"
   ]
  },
  {
   "cell_type": "code",
   "execution_count": 0,
   "metadata": {
    "colab": {},
    "colab_type": "code",
    "id": "j1V5cxltP5U-"
   },
   "outputs": [],
   "source": [
    "def download_data(in_dir, url):\n",
    "    \n",
    "    if not os.path.exists(in_dir):\n",
    "        os.makedirs(in_dir)\n",
    "    \n",
    "    download.maybe_download_and_extract(url,in_dir)"
   ]
  },
  {
   "cell_type": "markdown",
   "metadata": {
    "colab_type": "text",
    "id": "tRf-KgkjP9Kt"
   },
   "source": [
    "## Load Data\n",
    "\n",
    "Firstly, we define the directory to place the video dataset"
   ]
  },
  {
   "cell_type": "code",
   "execution_count": 0,
   "metadata": {
    "colab": {},
    "colab_type": "code",
    "id": "RiRKgwBgP-NY"
   },
   "outputs": [],
   "source": [
    "in_dir = \"data\""
   ]
  },
  {
   "cell_type": "markdown",
   "metadata": {
    "colab_type": "text",
    "id": "reLkhZglQBrD"
   },
   "source": [
    "We set the url to download the dataset"
   ]
  },
  {
   "cell_type": "code",
   "execution_count": 0,
   "metadata": {
    "colab": {},
    "colab_type": "code",
    "id": "YX0Qk202QCvw"
   },
   "outputs": [],
   "source": [
    "url_hockey = \"http://visilab.etsii.uclm.es/personas/oscar/FightDetection/HockeyFights.zip\""
   ]
  },
  {
   "cell_type": "markdown",
   "metadata": {
    "colab_type": "text",
    "id": "K7zrKRupRFaz"
   },
   "source": [
    "to download the dataset and decompress it:"
   ]
  },
  {
   "cell_type": "code",
   "execution_count": 7,
   "metadata": {
    "colab": {
     "base_uri": "https://localhost:8080/",
     "height": 34
    },
    "colab_type": "code",
    "id": "urX5VyFzRF-o",
    "outputId": "ec619e67-5d10-413f-d510-aaeadfbf3116"
   },
   "outputs": [
    {
     "name": "stdout",
     "output_type": "stream",
     "text": [
      "Data has apparently already been downloaded and unpacked.\n"
     ]
    }
   ],
   "source": [
    "download_data(in_dir,url_hockey)"
   ]
  },
  {
   "cell_type": "markdown",
   "metadata": {
    "colab_type": "text",
    "id": "UCZHrpJjRKky"
   },
   "source": [
    "Copy some of the data-dimensions for convenience."
   ]
  },
  {
   "cell_type": "code",
   "execution_count": 0,
   "metadata": {
    "colab": {},
    "colab_type": "code",
    "id": "SXTNEj6SRLZZ"
   },
   "outputs": [],
   "source": [
    "# Frame size  \n",
    "img_size = 224\n",
    "\n",
    "img_size_touple = (img_size, img_size)\n",
    "\n",
    "# Number of channels (RGB)\n",
    "num_channels = 3\n",
    "\n",
    "# Flat frame size\n",
    "img_size_flat = img_size * img_size * num_channels\n",
    "\n",
    "# Number of classes for classification (Violence-No Violence)\n",
    "num_classes = 2\n",
    "\n",
    "# Number of files to train\n",
    "_num_files_train = 1\n",
    "\n",
    "# Number of frames per video\n",
    "_images_per_file = 20\n",
    "\n",
    "# Number of frames per training set\n",
    "_num_images_train = _num_files_train * _images_per_file\n",
    "\n",
    "# Video extension\n",
    "video_exts = \".avi\""
   ]
  },
  {
   "cell_type": "markdown",
   "metadata": {
    "colab_type": "text",
    "id": "Wodq7EaSRSS8"
   },
   "source": [
    "### Helper-function for getting video frames\n",
    "Function used to get 20 frames from a video file and convert the frame to a suitable format for the neural net."
   ]
  },
  {
   "cell_type": "code",
   "execution_count": 0,
   "metadata": {
    "colab": {},
    "colab_type": "code",
    "id": "eu9c4a-3RVkO"
   },
   "outputs": [],
   "source": [
    "def get_frames(current_dir, file_name):\n",
    "    \n",
    "    in_file = os.path.join(current_dir, file_name)\n",
    "    \n",
    "    images = []\n",
    "    \n",
    "    vidcap = cv2.VideoCapture(in_file)\n",
    "    \n",
    "    success,image = vidcap.read()\n",
    "        \n",
    "    count = 0\n",
    "\n",
    "    while count<_images_per_file:\n",
    "                \n",
    "        RGB_img = cv2.cvtColor(image, cv2.COLOR_BGR2RGB)\n",
    "    \n",
    "        res = cv2.resize(RGB_img, dsize=(img_size, img_size),\n",
    "                                 interpolation=cv2.INTER_CUBIC)\n",
    "    \n",
    "        images.append(res)\n",
    "    \n",
    "        success,image = vidcap.read()\n",
    "    \n",
    "        count += 1\n",
    "        \n",
    "    resul = np.array(images)\n",
    "    \n",
    "    resul = (resul / 255.).astype(np.float16)\n",
    "        \n",
    "    return resul"
   ]
  },
  {
   "cell_type": "markdown",
   "metadata": {
    "colab_type": "text",
    "id": "tLCjYFBtRZb-"
   },
   "source": [
    "### Helper function to get the names of the data downloaded and label it"
   ]
  },
  {
   "cell_type": "code",
   "execution_count": 0,
   "metadata": {
    "colab": {},
    "colab_type": "code",
    "id": "Qiv5NIJjRbIA"
   },
   "outputs": [],
   "source": [
    "def label_video_names(in_dir):\n",
    "    \n",
    "    # list containing video names\n",
    "    names = []\n",
    "    # list containin video labels [1, 0] if it has violence and [0, 1] if not\n",
    "    labels = []\n",
    "    \n",
    "    \n",
    "    for current_dir, dir_names,file_names in os.walk(in_dir):\n",
    "        \n",
    "        for file_name in file_names:\n",
    "            \n",
    "            if file_name[0:2] == 'fi':\n",
    "                labels.append([1,0])\n",
    "                names.append(file_name)\n",
    "            elif file_name[0:2] == 'no':\n",
    "                labels.append([0,1])\n",
    "                names.append(file_name)\n",
    "                     \n",
    "            \n",
    "    c = list(zip(names,labels))\n",
    "    # Suffle the data (names and labels)\n",
    "    shuffle(c)\n",
    "    \n",
    "    names, labels = zip(*c)\n",
    "            \n",
    "    return names, labels"
   ]
  },
  {
   "cell_type": "markdown",
   "metadata": {
    "colab_type": "text",
    "id": "t3KW2kfgReKn"
   },
   "source": [
    "### Plot a video frame to see if data is correct"
   ]
  },
  {
   "cell_type": "code",
   "execution_count": 0,
   "metadata": {
    "colab": {},
    "colab_type": "code",
    "id": "dIsaAgcyRfIx"
   },
   "outputs": [],
   "source": [
    "# First get the names and labels of the whole videos\n",
    "names, labels = label_video_names(in_dir)"
   ]
  },
  {
   "cell_type": "markdown",
   "metadata": {
    "colab_type": "text",
    "id": "EqucOMsJRgqm"
   },
   "source": [
    "Then we are going to load 20 frames of one video, for example"
   ]
  },
  {
   "cell_type": "code",
   "execution_count": 12,
   "metadata": {
    "colab": {
     "base_uri": "https://localhost:8080/",
     "height": 34
    },
    "colab_type": "code",
    "id": "xUfZO-0BRj0f",
    "outputId": "e2b913dc-c39f-4d5f-a0d6-da1273692fbc"
   },
   "outputs": [
    {
     "data": {
      "text/plain": [
       "'fi191_xvid.avi'"
      ]
     },
     "execution_count": 12,
     "metadata": {
      "tags": []
     },
     "output_type": "execute_result"
    }
   ],
   "source": [
    "names[12]"
   ]
  },
  {
   "cell_type": "markdown",
   "metadata": {
    "colab_type": "text",
    "id": "ORGJ2pS9RnWw"
   },
   "source": [
    "The video has violence, look at the name of the video, starts with 'fi'"
   ]
  },
  {
   "cell_type": "code",
   "execution_count": 0,
   "metadata": {
    "colab": {},
    "colab_type": "code",
    "id": "EqBi8z6rRoMW"
   },
   "outputs": [],
   "source": [
    "frames = get_frames(in_dir, names[12])"
   ]
  },
  {
   "cell_type": "markdown",
   "metadata": {
    "colab_type": "text",
    "id": "vtgQEmI6RrmM"
   },
   "source": [
    "Convert back the frames to uint8 pixel format to plot the frame"
   ]
  },
  {
   "cell_type": "code",
   "execution_count": 0,
   "metadata": {
    "colab": {},
    "colab_type": "code",
    "id": "9ihSA_ogRsNU"
   },
   "outputs": [],
   "source": [
    "visible_frame = (frames*255).astype('uint8')"
   ]
  },
  {
   "cell_type": "code",
   "execution_count": 15,
   "metadata": {
    "colab": {
     "base_uri": "https://localhost:8080/",
     "height": 286
    },
    "colab_type": "code",
    "id": "PM1kNhaHRvSv",
    "outputId": "e2a6d324-cb62-42d2-dd8f-1cf1c464d168"
   },
   "outputs": [
    {
     "data": {
      "text/plain": [
       "<matplotlib.image.AxesImage at 0x7f37ef72fef0>"
      ]
     },
     "execution_count": 15,
     "metadata": {
      "tags": []
     },
     "output_type": "execute_result"
    },
    {
     "data": {
      "image/png": "[encoded data removed]",
      "text/plain": [
       "<Figure size 432x288 with 1 Axes>"
      ]
     },
     "metadata": {
      "tags": []
     },
     "output_type": "display_data"
    }
   ],
   "source": [
    "plt.imshow(visible_frame[3])"
   ]
  },
  {
   "cell_type": "code",
   "execution_count": 16,
   "metadata": {
    "colab": {
     "base_uri": "https://localhost:8080/",
     "height": 286
    },
    "colab_type": "code",
    "id": "_gVWtYPvR8n2",
    "outputId": "f9858ffa-3981-4b85-9c4d-62057bb8972c"
   },
   "outputs": [
    {
     "data": {
      "text/plain": [
       "<matplotlib.image.AxesImage at 0x7f37ed6c6c50>"
      ]
     },
     "execution_count": 16,
     "metadata": {
      "tags": []
     },
     "output_type": "execute_result"
    },
    {
     "data": {
      "image/png": "[encoded data removed]",
      "text/plain": [
       "<Figure size 432x288 with 1 Axes>"
      ]
     },
     "metadata": {
      "tags": []
     },
     "output_type": "display_data"
    }
   ],
   "source": [
    "plt.imshow(visible_frame[15])"
   ]
  },
  {
   "cell_type": "markdown",
   "metadata": {
    "colab_type": "text",
    "id": "sF1QieG5SANp"
   },
   "source": [
    "## Pre-Trained Model: VGG16"
   ]
  },
  {
   "cell_type": "markdown",
   "metadata": {
    "colab_type": "text",
    "id": "0o6FA6slSA1l"
   },
   "source": [
    "The following creates an instance of the pre-trained VGG16 model using the Keras API. This automatically downloads the required files if you don't have them already.\n",
    "\n",
    "The VGG16 model contains a convolutional part and a fully-connected (or dense) part which is used for classification. If include_top=True then the whole VGG16 model is downloaded which is about 528 MB. If include_top=False then only the convolutional part of the VGG16 model is downloaded which is just 57 MB."
   ]
  },
  {
   "cell_type": "code",
   "execution_count": 17,
   "metadata": {
    "colab": {
     "base_uri": "https://localhost:8080/",
     "height": 88
    },
    "colab_type": "code",
    "id": "MjRN6oE4SC81",
    "outputId": "1a9fbd16-9741-406d-b4fd-e3a20cd34a0d"
   },
   "outputs": [
    {
     "name": "stdout",
     "output_type": "stream",
     "text": [
      "WARNING:tensorflow:From /usr/local/lib/python3.6/dist-packages/tensorflow/python/framework/op_def_library.py:263: colocate_with (from tensorflow.python.framework.ops) is deprecated and will be removed in a future version.\n",
      "Instructions for updating:\n",
      "Colocations handled automatically by placer.\n"
     ]
    }
   ],
   "source": [
    "image_model = VGG16(include_top=True, weights='imagenet')"
   ]
  },
  {
   "cell_type": "markdown",
   "metadata": {
    "colab_type": "text",
    "id": "P_7z-y1mSPov"
   },
   "source": [
    "Let's see the model summary"
   ]
  },
  {
   "cell_type": "code",
   "execution_count": 18,
   "metadata": {
    "colab": {
     "base_uri": "https://localhost:8080/",
     "height": 918
    },
    "colab_type": "code",
    "id": "ud7OU0t7SQPi",
    "outputId": "20718d3a-c1d3-4a06-d6f5-de3c465311df"
   },
   "outputs": [
    {
     "name": "stdout",
     "output_type": "stream",
     "text": [
      "_________________________________________________________________\n",
      "Layer (type)                 Output Shape              Param #   \n",
      "=================================================================\n",
      "input_1 (InputLayer)         (None, 224, 224, 3)       0         \n",
      "_________________________________________________________________\n",
      "block1_conv1 (Conv2D)        (None, 224, 224, 64)      1792      \n",
      "_________________________________________________________________\n",
      "block1_conv2 (Conv2D)        (None, 224, 224, 64)      36928     \n",
      "_________________________________________________________________\n",
      "block1_pool (MaxPooling2D)   (None, 112, 112, 64)      0         \n",
      "_________________________________________________________________\n",
      "block2_conv1 (Conv2D)        (None, 112, 112, 128)     73856     \n",
      "_________________________________________________________________\n",
      "block2_conv2 (Conv2D)        (None, 112, 112, 128)     147584    \n",
      "_________________________________________________________________\n",
      "block2_pool (MaxPooling2D)   (None, 56, 56, 128)       0         \n",
      "_________________________________________________________________\n",
      "block3_conv1 (Conv2D)        (None, 56, 56, 256)       295168    \n",
      "_________________________________________________________________\n",
      "block3_conv2 (Conv2D)        (None, 56, 56, 256)       590080    \n",
      "_________________________________________________________________\n",
      "block3_conv3 (Conv2D)        (None, 56, 56, 256)       590080    \n",
      "_________________________________________________________________\n",
      "block3_pool (MaxPooling2D)   (None, 28, 28, 256)       0         \n",
      "_________________________________________________________________\n",
      "block4_conv1 (Conv2D)        (None, 28, 28, 512)       1180160   \n",
      "_________________________________________________________________\n",
      "block4_conv2 (Conv2D)        (None, 28, 28, 512)       2359808   \n",
      "_________________________________________________________________\n",
      "block4_conv3 (Conv2D)        (None, 28, 28, 512)       2359808   \n",
      "_________________________________________________________________\n",
      "block4_pool (MaxPooling2D)   (None, 14, 14, 512)       0         \n",
      "_________________________________________________________________\n",
      "block5_conv1 (Conv2D)        (None, 14, 14, 512)       2359808   \n",
      "_________________________________________________________________\n",
      "block5_conv2 (Conv2D)        (None, 14, 14, 512)       2359808   \n",
      "_________________________________________________________________\n",
      "block5_conv3 (Conv2D)        (None, 14, 14, 512)       2359808   \n",
      "_________________________________________________________________\n",
      "block5_pool (MaxPooling2D)   (None, 7, 7, 512)         0         \n",
      "_________________________________________________________________\n",
      "flatten (Flatten)            (None, 25088)             0         \n",
      "_________________________________________________________________\n",
      "fc1 (Dense)                  (None, 4096)              102764544 \n",
      "_________________________________________________________________\n",
      "fc2 (Dense)                  (None, 4096)              16781312  \n",
      "_________________________________________________________________\n",
      "predictions (Dense)          (None, 1000)              4097000   \n",
      "=================================================================\n",
      "Total params: 138,357,544\n",
      "Trainable params: 138,357,544\n",
      "Non-trainable params: 0\n",
      "_________________________________________________________________\n"
     ]
    }
   ],
   "source": [
    "image_model.summary()\n",
    "\n"
   ]
  },
  {
   "cell_type": "markdown",
   "metadata": {
    "colab_type": "text",
    "id": "-NxnGLlDSTwr"
   },
   "source": [
    "We can observe the shape of the tensors expected as input by the pre-trained VGG16 model. In this case it is images of shape 224 x 224 x 3. Note that we have defined the frame size as 224x224x3. The video frame will be the input of the VGG16 net."
   ]
  },
  {
   "cell_type": "code",
   "execution_count": 19,
   "metadata": {
    "colab": {
     "base_uri": "https://localhost:8080/",
     "height": 34
    },
    "colab_type": "code",
    "id": "9a0k89M5SUjP",
    "outputId": "50971481-7dff-49de-b4ad-a3e69c2853ac"
   },
   "outputs": [
    {
     "data": {
      "text/plain": [
       "(224, 224)"
      ]
     },
     "execution_count": 19,
     "metadata": {
      "tags": []
     },
     "output_type": "execute_result"
    }
   ],
   "source": [
    "input_shape = image_model.layers[0].output_shape[1:3]\n",
    "input_shape"
   ]
  },
  {
   "cell_type": "markdown",
   "metadata": {
    "colab_type": "text",
    "id": "kMR6iqg4SaOl"
   },
   "source": [
    "### VGG16 model flowchart"
   ]
  },
  {
   "cell_type": "markdown",
   "metadata": {
    "colab_type": "text",
    "id": "qFUDqTiBSa0H"
   },
   "source": [
    "The following chart shows how the data flows when using the VGG16 model for Transfer Learning. First we input and process 20 video frames in batch with the VGG16 model. Just prior to the final classification layer of the VGG16 model, we save the so-called Transfer Values to a cache-file.\n",
    "\n",
    "The reason for using a cache-file is that it takes a long time to process an image with the VGG16 model. If each image is processed more than once then we can save a lot of time by caching the transfer-values.\n",
    "\n",
    "When all the videos have been processed through the VGG16 model and the resulting transfer-values saved to a cache file, then we can use those transfer-values as the input to LSTM neural network. We will then train the second neural network using the classes from the violence dataset (Violence, No-Violence), so the network learns how to classify images based on the transfer-values from the VGG16 model."
   ]
  },
  {
   "cell_type": "code",
   "execution_count": 20,
   "metadata": {
    "colab": {
     "base_uri": "https://localhost:8080/",
     "height": 51
    },
    "colab_type": "code",
    "id": "4YWFA-2tSdfB",
    "outputId": "55dcb0c7-2b8a-4420-e25e-381152197a81"
   },
   "outputs": [
    {
     "name": "stdout",
     "output_type": "stream",
     "text": [
      "The input of the VGG16 net have dimensions: (224, 224)\n",
      "The output of the selecter layer of VGG16 net have dimensions:  4096\n"
     ]
    }
   ],
   "source": [
    "# We will use the output of the layer prior to the final\n",
    "# classification-layer which is named fc2. This is a fully-connected (or dense) layer.\n",
    "transfer_layer = image_model.get_layer('fc2')\n",
    "\n",
    "image_model_transfer = Model(inputs=image_model.input,\n",
    "                             outputs=transfer_layer.output)\n",
    "\n",
    "transfer_values_size = K.int_shape(transfer_layer.output)[1]\n",
    "\n",
    "\n",
    "print(\"The input of the VGG16 net have dimensions:\",K.int_shape(image_model.input)[1:3])\n",
    "\n",
    "print(\"The output of the selecter layer of VGG16 net have dimensions: \", transfer_values_size)"
   ]
  },
  {
   "cell_type": "markdown",
   "metadata": {
    "colab_type": "text",
    "id": "1ghum6s2Si1n"
   },
   "source": [
    "### Function to process 20 video frames through VGG16 and get transfer values"
   ]
  },
  {
   "cell_type": "code",
   "execution_count": 0,
   "metadata": {
    "colab": {},
    "colab_type": "code",
    "id": "-AdxYAtiSlLF"
   },
   "outputs": [],
   "source": [
    "def get_transfer_values(current_dir, file_name):\n",
    "    \n",
    "    # Pre-allocate input-batch-array for images.\n",
    "    shape = (_images_per_file,) + img_size_touple + (3,)\n",
    "    \n",
    "    image_batch = np.zeros(shape=shape, dtype=np.float16)\n",
    "    \n",
    "    image_batch = get_frames(current_dir, file_name)\n",
    "      \n",
    "    # Pre-allocate output-array for transfer-values.\n",
    "    # Note that we use 16-bit floating-points to save memory.\n",
    "    shape = (_images_per_file, transfer_values_size)\n",
    "    transfer_values = np.zeros(shape=shape, dtype=np.float16)\n",
    "\n",
    "    transfer_values = \\\n",
    "            image_model_transfer.predict(image_batch)\n",
    "            \n",
    "    return transfer_values"
   ]
  },
  {
   "cell_type": "markdown",
   "metadata": {
    "colab_type": "text",
    "id": "HGdRIG6oSooG"
   },
   "source": [
    "### Generator that process one video through VGG16 each function call"
   ]
  },
  {
   "cell_type": "code",
   "execution_count": 0,
   "metadata": {
    "colab": {},
    "colab_type": "code",
    "id": "D2BvaY3eSpSH"
   },
   "outputs": [],
   "source": [
    "def proces_transfer(vid_names, in_dir, labels):\n",
    "    \n",
    "    count = 0\n",
    "    \n",
    "    tam = len(vid_names)\n",
    "    \n",
    "    # Pre-allocate input-batch-array for images.\n",
    "    shape = (_images_per_file,) + img_size_touple + (3,)\n",
    "    \n",
    "    while count<tam:\n",
    "        \n",
    "        video_name = vid_names[count]\n",
    "        \n",
    "        image_batch = np.zeros(shape=shape, dtype=np.float16)\n",
    "    \n",
    "        image_batch = get_frames(in_dir, video_name)\n",
    "        \n",
    "         # Note that we use 16-bit floating-points to save memory.\n",
    "        shape = (_images_per_file, transfer_values_size)\n",
    "        transfer_values = np.zeros(shape=shape, dtype=np.float16)\n",
    "        \n",
    "        transfer_values = \\\n",
    "            image_model_transfer.predict(image_batch)\n",
    "         \n",
    "        labels1 = labels[count]\n",
    "        \n",
    "        aux = np.ones([20,2])\n",
    "        \n",
    "        labelss = labels1*aux\n",
    "        \n",
    "        yield transfer_values, labelss\n",
    "        \n",
    "        count+=1"
   ]
  },
  {
   "cell_type": "markdown",
   "metadata": {
    "colab_type": "text",
    "id": "I-Cnv0fRSswF"
   },
   "source": [
    "### Functions to save transfer values from VGG16 to later use\n",
    "We are going to define functions to get the transfer values from VGG16 with defined number of files. Then save the transfer values files used from training in one file and the ones uses for testing in another one. "
   ]
  },
  {
   "cell_type": "code",
   "execution_count": 0,
   "metadata": {
    "colab": {},
    "colab_type": "code",
    "id": "tvU53ypSSvL0"
   },
   "outputs": [],
   "source": [
    "def make_files(n_files):\n",
    "    \n",
    "    gen = proces_transfer(names_training, in_dir, labels_training)\n",
    "\n",
    "    numer = 1\n",
    "\n",
    "    # Read the first chunk to get the column dtypes\n",
    "    chunk = next(gen)\n",
    "\n",
    "    row_count = chunk[0].shape[0]\n",
    "    row_count2 = chunk[1].shape[0]\n",
    "    \n",
    "    with h5py.File('prueba.h5', 'w') as f:\n",
    "    \n",
    "        # Initialize a resizable dataset to hold the output\n",
    "        maxshape = (None,) + chunk[0].shape[1:]\n",
    "        maxshape2 = (None,) + chunk[1].shape[1:]\n",
    "    \n",
    "    \n",
    "        dset = f.create_dataset('data', shape=chunk[0].shape, maxshape=maxshape,\n",
    "                                chunks=chunk[0].shape, dtype=chunk[0].dtype)\n",
    "    \n",
    "        dset2 = f.create_dataset('labels', shape=chunk[1].shape, maxshape=maxshape2,\n",
    "                                 chunks=chunk[1].shape, dtype=chunk[1].dtype)\n",
    "    \n",
    "         # Write the first chunk of rows\n",
    "        dset[:] = chunk[0]\n",
    "        dset2[:] = chunk[1]\n",
    "\n",
    "        for chunk in gen:\n",
    "            \n",
    "            if numer == n_files:\n",
    "            \n",
    "                break\n",
    "\n",
    "            # Resize the dataset to accommodate the next chunk of rows\n",
    "            dset.resize(row_count + chunk[0].shape[0], axis=0)\n",
    "            dset2.resize(row_count2 + chunk[1].shape[0], axis=0)\n",
    "\n",
    "            # Write the next chunk\n",
    "            dset[row_count:] = chunk[0]\n",
    "            dset2[row_count:] = chunk[1]\n",
    "\n",
    "            # Increment the row count\n",
    "            row_count += chunk[0].shape[0]\n",
    "            row_count2 += chunk[1].shape[0]\n",
    "            \n",
    "            print_progress(numer, n_files)\n",
    "        \n",
    "            numer += 1"
   ]
  },
  {
   "cell_type": "code",
   "execution_count": 0,
   "metadata": {
    "colab": {},
    "colab_type": "code",
    "id": "8nK8uFExS0nX"
   },
   "outputs": [],
   "source": [
    "def make_files_test(n_files):\n",
    "    \n",
    "    gen = proces_transfer(names_test, in_dir, labels_test)\n",
    "\n",
    "    numer = 1\n",
    "\n",
    "    # Read the first chunk to get the column dtypes\n",
    "    chunk = next(gen)\n",
    "\n",
    "    row_count = chunk[0].shape[0]\n",
    "    row_count2 = chunk[1].shape[0]\n",
    "    \n",
    "    with h5py.File('pruebavalidation.h5', 'w') as f:\n",
    "    \n",
    "        # Initialize a resizable dataset to hold the output\n",
    "        maxshape = (None,) + chunk[0].shape[1:]\n",
    "        maxshape2 = (None,) + chunk[1].shape[1:]\n",
    "    \n",
    "    \n",
    "        dset = f.create_dataset('data', shape=chunk[0].shape, maxshape=maxshape,\n",
    "                                chunks=chunk[0].shape, dtype=chunk[0].dtype)\n",
    "    \n",
    "        dset2 = f.create_dataset('labels', shape=chunk[1].shape, maxshape=maxshape2,\n",
    "                                 chunks=chunk[1].shape, dtype=chunk[1].dtype)\n",
    "    \n",
    "         # Write the first chunk of rows\n",
    "        dset[:] = chunk[0]\n",
    "        dset2[:] = chunk[1]\n",
    "\n",
    "        for chunk in gen:\n",
    "            \n",
    "            if numer == n_files:\n",
    "            \n",
    "                break\n",
    "\n",
    "            # Resize the dataset to accommodate the next chunk of rows\n",
    "            dset.resize(row_count + chunk[0].shape[0], axis=0)\n",
    "            dset2.resize(row_count2 + chunk[1].shape[0], axis=0)\n",
    "\n",
    "            # Write the next chunk\n",
    "            dset[row_count:] = chunk[0]\n",
    "            dset2[row_count:] = chunk[1]\n",
    "\n",
    "            # Increment the row count\n",
    "            row_count += chunk[0].shape[0]\n",
    "            row_count2 += chunk[1].shape[0]\n",
    "            \n",
    "            print_progress(numer, n_files)\n",
    "        \n",
    "            numer += 1"
   ]
  },
  {
   "cell_type": "markdown",
   "metadata": {
    "colab_type": "text",
    "id": "R9axnZ8dS64T"
   },
   "source": [
    "### Split the dataset into training set and test set\n",
    "We are going to split the dataset into training set and testing. The training set is used to train the model and the test set to check the model accuracy."
   ]
  },
  {
   "cell_type": "code",
   "execution_count": 0,
   "metadata": {
    "colab": {},
    "colab_type": "code",
    "id": "wjne3svdS9Y3"
   },
   "outputs": [],
   "source": [
    "training_set = int(len(names)*0.8)\n",
    "test_set = int(len(names)*0.2)\n",
    "\n",
    "names_training = names[0:training_set]\n",
    "names_test = names[training_set:]\n",
    "\n",
    "labels_training = labels[0:training_set]\n",
    "labels_test = labels[training_set:]"
   ]
  },
  {
   "cell_type": "markdown",
   "metadata": {
    "colab_type": "text",
    "id": "xmiJi6G7TBnI"
   },
   "source": [
    "Then we are going to process all video frames through VGG16 and save the transfer values."
   ]
  },
  {
   "cell_type": "code",
   "execution_count": 26,
   "metadata": {
    "colab": {
     "base_uri": "https://localhost:8080/",
     "height": 34
    },
    "colab_type": "code",
    "id": "pyO9WP-6TER4",
    "outputId": "94209006-bfb9-470f-d418-cd2acfbdb12d"
   },
   "outputs": [
    {
     "name": "stdout",
     "output_type": "stream",
     "text": [
      "- Progress: 99.9%"
     ]
    }
   ],
   "source": [
    "make_files(training_set)"
   ]
  },
  {
   "cell_type": "code",
   "execution_count": 27,
   "metadata": {
    "colab": {
     "base_uri": "https://localhost:8080/",
     "height": 34
    },
    "colab_type": "code",
    "id": "0ThoefXUXPrS",
    "outputId": "9f4cdc1e-4bfb-4ab6-81c1-05abadc1239f"
   },
   "outputs": [
    {
     "name": "stdout",
     "output_type": "stream",
     "text": [
      "- Progress: 99.5%"
     ]
    }
   ],
   "source": [
    "make_files_test(test_set)"
   ]
  },
  {
   "cell_type": "markdown",
   "metadata": {
    "colab_type": "text",
    "id": "0s2imcRixMAr"
   },
   "source": [
    "### Load the cached transfer values into memory\n",
    "We have already saved all the videos transfer values into disk. But we have to load those transfer values into memory in order to train the LSTM net. One question would be: why not process transfer values and load them into RAM memory? Yes is a more eficient way to train the second net. But if you have to train the LSTM in different ways in order to see which way gets the best accuracy, if you didn't save the transfer values into disk you would have to process the whole videos each training. It's very time consuming processing the videos through VGG16 net. \n"
   ]
  },
  {
   "cell_type": "markdown",
   "metadata": {
    "colab_type": "text",
    "id": "RnK1JL-izzeS"
   },
   "source": [
    "In order to load the saved transfer values into RAM memory we are going to use this two functions:"
   ]
  },
  {
   "cell_type": "code",
   "execution_count": 0,
   "metadata": {
    "colab": {},
    "colab_type": "code",
    "id": "Ez0blP2z0CsF"
   },
   "outputs": [],
   "source": [
    "def process_alldata_training():\n",
    "    \n",
    "    joint_transfer=[]\n",
    "    frames_num=20\n",
    "    count = 0\n",
    "    \n",
    "    with h5py.File('prueba.h5', 'r') as f:\n",
    "            \n",
    "        X_batch = f['data'][:]\n",
    "        y_batch = f['labels'][:]\n",
    "\n",
    "    for i in range(int(len(X_batch)/frames_num)):\n",
    "        inc = count+frames_num\n",
    "        joint_transfer.append([X_batch[count:inc],y_batch[count]])\n",
    "        count =inc\n",
    "        \n",
    "    data =[]\n",
    "    target=[]\n",
    "    \n",
    "    for i in joint_transfer:\n",
    "        data.append(i[0])\n",
    "        target.append(np.array(i[1]))\n",
    "        \n",
    "    return data, target"
   ]
  },
  {
   "cell_type": "code",
   "execution_count": 0,
   "metadata": {
    "colab": {},
    "colab_type": "code",
    "id": "Dne2XaQ90MGk"
   },
   "outputs": [],
   "source": [
    "def process_alldata_test():\n",
    "    \n",
    "    joint_transfer=[]\n",
    "    frames_num=20\n",
    "    count = 0\n",
    "    \n",
    "    with h5py.File('pruebavalidation.h5', 'r') as f:\n",
    "            \n",
    "        X_batch = f['data'][:]\n",
    "        y_batch = f['labels'][:]\n",
    "\n",
    "    for i in range(int(len(X_batch)/frames_num)):\n",
    "        inc = count+frames_num\n",
    "        joint_transfer.append([X_batch[count:inc],y_batch[count]])\n",
    "        count =inc\n",
    "        \n",
    "    data =[]\n",
    "    target=[]\n",
    "    \n",
    "    for i in joint_transfer:\n",
    "        data.append(i[0])\n",
    "        target.append(np.array(i[1]))\n",
    "        \n",
    "    return data, target"
   ]
  },
  {
   "cell_type": "code",
   "execution_count": 0,
   "metadata": {
    "colab": {},
    "colab_type": "code",
    "id": "phyhoYc67VW8"
   },
   "outputs": [],
   "source": [
    "data, target = process_alldata_training()"
   ]
  },
  {
   "cell_type": "code",
   "execution_count": 0,
   "metadata": {
    "colab": {},
    "colab_type": "code",
    "id": "dJpXHvEg7Xhc"
   },
   "outputs": [],
   "source": [
    "data_test, target_test = process_alldata_test()"
   ]
  },
  {
   "cell_type": "markdown",
   "metadata": {
    "colab_type": "text",
    "id": "Qjaawyqj0arq"
   },
   "source": [
    "##Recurrent Neural Network"
   ]
  },
  {
   "cell_type": "markdown",
   "metadata": {
    "colab_type": "text",
    "id": "dXFhxfzE0hGb"
   },
   "source": [
    "The basic building block in a Recurrent Neural Network (RNN) is a Recurrent Unit (RU). There are many different variants of recurrent units such as the rather clunky LSTM (Long-Short-Term-Memory) and the somewhat simpler GRU (Gated Recurrent Unit) which we will use in this tutorial. Experiments in the literature suggest that the LSTM and GRU have roughly similar performance. Even simpler variants also exist and the literature suggests that they may perform even better than both LSTM and GRU, but they are not implemented in Keras which we will use in this tutorial.\n",
    "\n",
    "A recurrent neuron has an internal state that is being updated every time the unit receives a new input. This internal state serves as a kind of memory. However, it is not a traditional kind of computer memory which stores bits that are either on or off. Instead the recurrent unit stores floating-point values in its memory-state, which are read and written using matrix-operations so the operations are all differentiable. This means the memory-state can store arbitrary floating-point values (although typically limited between -1.0 and 1.0) and the network can be trained like a normal neural network using Gradient Descent.\n",
    "\n"
   ]
  },
  {
   "cell_type": "markdown",
   "metadata": {
    "colab_type": "text",
    "id": "BsIrL3ix4Edp"
   },
   "source": [
    "### Define LSTM architecture"
   ]
  },
  {
   "cell_type": "markdown",
   "metadata": {
    "colab_type": "text",
    "id": "qFiSjMaC4Q1c"
   },
   "source": [
    "When defining the LSTM architecture we have to take into account the dimensions of the transfer values. From each frame the VGG16 network obtains as output a vector of 4096 transfer values. From each video we are processing 20 frames so we will have 20 x 4096 values per video. The classification must be done taking into account the 20 frames of the video. If any of them detects violence, the video will be classified as violent.\n"
   ]
  },
  {
   "cell_type": "markdown",
   "metadata": {
    "colab_type": "text",
    "id": "HAgSUeVu58N_"
   },
   "source": [
    "The first input dimension of LSTM neurons is the temporal dimension, in our case it is 20. The second is the size of the features vector (transfer values).\n"
   ]
  },
  {
   "cell_type": "code",
   "execution_count": 0,
   "metadata": {
    "colab": {},
    "colab_type": "code",
    "id": "XWABZ91b6f7l"
   },
   "outputs": [],
   "source": [
    "chunk_size = 4096\n",
    "n_chunks = 20\n",
    "rnn_size = 512\n",
    "\n",
    "model = Sequential()\n",
    "model.add(LSTM(rnn_size, input_shape=(n_chunks, chunk_size)))\n",
    "model.add(Dense(1024))\n",
    "model.add(Activation('relu'))\n",
    "model.add(Dense(50))\n",
    "model.add(Activation('sigmoid'))\n",
    "model.add(Dense(2))\n",
    "model.add(Activation('softmax'))\n",
    "model.compile(loss='mean_squared_error', optimizer='adam',metrics=['accuracy'])"
   ]
  },
  {
   "cell_type": "markdown",
   "metadata": {
    "colab_type": "text",
    "id": "bVonOPYW7F_b"
   },
   "source": [
    "## Model training\n"
   ]
  },
  {
   "cell_type": "code",
   "execution_count": 37,
   "metadata": {
    "colab": {
     "base_uri": "https://localhost:8080/",
     "height": 6834
    },
    "colab_type": "code",
    "id": "iRZlW4ZV_ygS",
    "outputId": "c223a55f-8ccd-4e5a-f5d4-dc6a1daf2d0e"
   },
   "outputs": [
    {
     "name": "stdout",
     "output_type": "stream",
     "text": [
      "Train on 750 samples, validate on 50 samples\n",
      "Epoch 1/200\n",
      " - 1s - loss: 0.0408 - acc: 0.9573 - val_loss: 0.0642 - val_acc: 0.9200\n",
      "Epoch 2/200\n",
      " - 1s - loss: 0.0383 - acc: 0.9613 - val_loss: 0.0598 - val_acc: 0.9400\n",
      "Epoch 3/200\n",
      " - 1s - loss: 0.0372 - acc: 0.9600 - val_loss: 0.0466 - val_acc: 0.9400\n",
      "Epoch 4/200\n",
      " - 1s - loss: 0.0375 - acc: 0.9587 - val_loss: 0.0822 - val_acc: 0.8800\n",
      "Epoch 5/200\n",
      " - 1s - loss: 0.0423 - acc: 0.9520 - val_loss: 0.0442 - val_acc: 0.9400\n",
      "Epoch 6/200\n",
      " - 1s - loss: 0.0385 - acc: 0.9600 - val_loss: 0.0441 - val_acc: 0.9400\n",
      "Epoch 7/200\n",
      " - 1s - loss: 0.0373 - acc: 0.9613 - val_loss: 0.0801 - val_acc: 0.8800\n",
      "Epoch 8/200\n",
      " - 1s - loss: 0.0387 - acc: 0.9587 - val_loss: 0.0470 - val_acc: 0.9400\n",
      "Epoch 9/200\n",
      " - 1s - loss: 0.0364 - acc: 0.9600 - val_loss: 0.0470 - val_acc: 0.9400\n",
      "Epoch 10/200\n",
      " - 1s - loss: 0.0358 - acc: 0.9613 - val_loss: 0.0659 - val_acc: 0.9200\n",
      "Epoch 11/200\n",
      " - 1s - loss: 0.0366 - acc: 0.9627 - val_loss: 0.0511 - val_acc: 0.9400\n",
      "Epoch 12/200\n",
      " - 1s - loss: 0.0370 - acc: 0.9613 - val_loss: 0.0610 - val_acc: 0.9400\n",
      "Epoch 13/200\n",
      " - 1s - loss: 0.0363 - acc: 0.9627 - val_loss: 0.0680 - val_acc: 0.9000\n",
      "Epoch 14/200\n",
      " - 1s - loss: 0.0356 - acc: 0.9627 - val_loss: 0.0414 - val_acc: 0.9600\n",
      "Epoch 15/200\n",
      " - 1s - loss: 0.0485 - acc: 0.9453 - val_loss: 0.1305 - val_acc: 0.8400\n",
      "Epoch 16/200\n",
      " - 1s - loss: 0.0583 - acc: 0.9333 - val_loss: 0.0531 - val_acc: 0.9200\n",
      "Epoch 17/200\n",
      " - 1s - loss: 0.0567 - acc: 0.9240 - val_loss: 0.1461 - val_acc: 0.8400\n",
      "Epoch 18/200\n",
      " - 1s - loss: 0.0732 - acc: 0.9067 - val_loss: 0.0593 - val_acc: 0.9000\n",
      "Epoch 19/200\n",
      " - 1s - loss: 0.0659 - acc: 0.9160 - val_loss: 0.1171 - val_acc: 0.8400\n",
      "Epoch 20/200\n",
      " - 1s - loss: 0.0566 - acc: 0.9267 - val_loss: 0.0551 - val_acc: 0.9400\n",
      "Epoch 21/200\n",
      " - 1s - loss: 0.0427 - acc: 0.9533 - val_loss: 0.0536 - val_acc: 0.9400\n",
      "Epoch 22/200\n",
      " - 1s - loss: 0.0421 - acc: 0.9520 - val_loss: 0.0746 - val_acc: 0.9000\n",
      "Epoch 23/200\n",
      " - 1s - loss: 0.0380 - acc: 0.9613 - val_loss: 0.0423 - val_acc: 0.9600\n",
      "Epoch 24/200\n",
      " - 1s - loss: 0.0443 - acc: 0.9493 - val_loss: 0.0877 - val_acc: 0.8800\n",
      "Epoch 25/200\n",
      " - 1s - loss: 0.0408 - acc: 0.9560 - val_loss: 0.0480 - val_acc: 0.9400\n",
      "Epoch 26/200\n",
      " - 1s - loss: 0.0409 - acc: 0.9507 - val_loss: 0.0564 - val_acc: 0.9400\n",
      "Epoch 27/200\n",
      " - 1s - loss: 0.0371 - acc: 0.9600 - val_loss: 0.0849 - val_acc: 0.8800\n",
      "Epoch 28/200\n",
      " - 1s - loss: 0.0401 - acc: 0.9560 - val_loss: 0.0462 - val_acc: 0.9400\n",
      "Epoch 29/200\n",
      " - 1s - loss: 0.0365 - acc: 0.9627 - val_loss: 0.0746 - val_acc: 0.9000\n",
      "Epoch 30/200\n",
      " - 1s - loss: 0.0386 - acc: 0.9613 - val_loss: 0.0621 - val_acc: 0.9400\n",
      "Epoch 31/200\n",
      " - 1s - loss: 0.0356 - acc: 0.9640 - val_loss: 0.0433 - val_acc: 0.9400\n",
      "Epoch 32/200\n",
      " - 1s - loss: 0.0376 - acc: 0.9600 - val_loss: 0.0828 - val_acc: 0.8800\n",
      "Epoch 33/200\n",
      " - 1s - loss: 0.0378 - acc: 0.9613 - val_loss: 0.0555 - val_acc: 0.9400\n",
      "Epoch 34/200\n",
      " - 1s - loss: 0.0355 - acc: 0.9640 - val_loss: 0.0464 - val_acc: 0.9400\n",
      "Epoch 35/200\n",
      " - 1s - loss: 0.0352 - acc: 0.9627 - val_loss: 0.0688 - val_acc: 0.9000\n",
      "Epoch 36/200\n",
      " - 1s - loss: 0.0360 - acc: 0.9627 - val_loss: 0.0572 - val_acc: 0.9400\n",
      "Epoch 37/200\n",
      " - 1s - loss: 0.0351 - acc: 0.9640 - val_loss: 0.0425 - val_acc: 0.9600\n",
      "Epoch 38/200\n",
      " - 1s - loss: 0.0369 - acc: 0.9600 - val_loss: 0.0785 - val_acc: 0.8800\n",
      "Epoch 39/200\n",
      " - 1s - loss: 0.0367 - acc: 0.9613 - val_loss: 0.0529 - val_acc: 0.9400\n",
      "Epoch 40/200\n",
      " - 1s - loss: 0.0350 - acc: 0.9653 - val_loss: 0.0465 - val_acc: 0.9400\n",
      "Epoch 41/200\n",
      " - 1s - loss: 0.0342 - acc: 0.9653 - val_loss: 0.0734 - val_acc: 0.9000\n",
      "Epoch 42/200\n",
      " - 1s - loss: 0.0356 - acc: 0.9627 - val_loss: 0.0529 - val_acc: 0.9400\n",
      "Epoch 43/200\n",
      " - 1s - loss: 0.0352 - acc: 0.9627 - val_loss: 0.0481 - val_acc: 0.9400\n",
      "Epoch 44/200\n",
      " - 1s - loss: 0.0340 - acc: 0.9640 - val_loss: 0.0766 - val_acc: 0.8800\n",
      "Epoch 45/200\n",
      " - 1s - loss: 0.0357 - acc: 0.9627 - val_loss: 0.0511 - val_acc: 0.9400\n",
      "Epoch 46/200\n",
      " - 1s - loss: 0.0343 - acc: 0.9640 - val_loss: 0.0450 - val_acc: 0.9400\n",
      "Epoch 47/200\n",
      " - 1s - loss: 0.0350 - acc: 0.9640 - val_loss: 0.0649 - val_acc: 0.9000\n",
      "Epoch 48/200\n",
      " - 1s - loss: 0.0340 - acc: 0.9640 - val_loss: 0.0419 - val_acc: 0.9600\n",
      "Epoch 49/200\n",
      " - 1s - loss: 0.0348 - acc: 0.9653 - val_loss: 0.0644 - val_acc: 0.9000\n",
      "Epoch 50/200\n",
      " - 1s - loss: 0.0349 - acc: 0.9627 - val_loss: 0.0758 - val_acc: 0.8800\n",
      "Epoch 51/200\n",
      " - 1s - loss: 0.0350 - acc: 0.9640 - val_loss: 0.0454 - val_acc: 0.9400\n",
      "Epoch 52/200\n",
      " - 1s - loss: 0.0333 - acc: 0.9667 - val_loss: 0.0544 - val_acc: 0.9400\n",
      "Epoch 53/200\n",
      " - 1s - loss: 0.0332 - acc: 0.9640 - val_loss: 0.0504 - val_acc: 0.9400\n",
      "Epoch 54/200\n",
      " - 1s - loss: 0.0337 - acc: 0.9653 - val_loss: 0.0571 - val_acc: 0.9400\n",
      "Epoch 55/200\n",
      " - 1s - loss: 0.0330 - acc: 0.9640 - val_loss: 0.0716 - val_acc: 0.9000\n",
      "Epoch 56/200\n",
      " - 1s - loss: 0.0338 - acc: 0.9640 - val_loss: 0.0478 - val_acc: 0.9400\n",
      "Epoch 57/200\n",
      " - 1s - loss: 0.0324 - acc: 0.9680 - val_loss: 0.0540 - val_acc: 0.9400\n",
      "Epoch 58/200\n",
      " - 1s - loss: 0.0324 - acc: 0.9667 - val_loss: 0.0528 - val_acc: 0.9400\n",
      "Epoch 59/200\n",
      " - 1s - loss: 0.0318 - acc: 0.9680 - val_loss: 0.0430 - val_acc: 0.9600\n",
      "Epoch 60/200\n",
      " - 1s - loss: 0.0330 - acc: 0.9680 - val_loss: 0.0693 - val_acc: 0.9000\n",
      "Epoch 61/200\n",
      " - 1s - loss: 0.0326 - acc: 0.9653 - val_loss: 0.0462 - val_acc: 0.9400\n",
      "Epoch 62/200\n",
      " - 1s - loss: 0.0320 - acc: 0.9693 - val_loss: 0.0603 - val_acc: 0.9200\n",
      "Epoch 63/200\n",
      " - 1s - loss: 0.0318 - acc: 0.9667 - val_loss: 0.0556 - val_acc: 0.9200\n",
      "Epoch 64/200\n",
      " - 1s - loss: 0.0318 - acc: 0.9680 - val_loss: 0.0481 - val_acc: 0.9400\n",
      "Epoch 65/200\n",
      " - 1s - loss: 0.0313 - acc: 0.9693 - val_loss: 0.0699 - val_acc: 0.9000\n",
      "Epoch 66/200\n",
      " - 1s - loss: 0.0318 - acc: 0.9667 - val_loss: 0.0467 - val_acc: 0.9400\n",
      "Epoch 67/200\n",
      " - 1s - loss: 0.0317 - acc: 0.9693 - val_loss: 0.0675 - val_acc: 0.9000\n",
      "Epoch 68/200\n",
      " - 1s - loss: 0.0317 - acc: 0.9667 - val_loss: 0.0599 - val_acc: 0.9200\n",
      "Epoch 69/200\n",
      " - 1s - loss: 0.0312 - acc: 0.9693 - val_loss: 0.0496 - val_acc: 0.9400\n",
      "Epoch 70/200\n",
      " - 1s - loss: 0.0309 - acc: 0.9693 - val_loss: 0.0744 - val_acc: 0.9000\n",
      "Epoch 71/200\n",
      " - 1s - loss: 0.0318 - acc: 0.9653 - val_loss: 0.0488 - val_acc: 0.9400\n",
      "Epoch 72/200\n",
      " - 1s - loss: 0.0311 - acc: 0.9693 - val_loss: 0.0540 - val_acc: 0.9400\n",
      "Epoch 73/200\n",
      " - 1s - loss: 0.0308 - acc: 0.9693 - val_loss: 0.0648 - val_acc: 0.9200\n",
      "Epoch 74/200\n",
      " - 1s - loss: 0.0312 - acc: 0.9693 - val_loss: 0.0458 - val_acc: 0.9600\n",
      "Epoch 75/200\n",
      " - 1s - loss: 0.0310 - acc: 0.9693 - val_loss: 0.0694 - val_acc: 0.9000\n",
      "Epoch 76/200\n",
      " - 1s - loss: 0.0315 - acc: 0.9667 - val_loss: 0.0446 - val_acc: 0.9600\n",
      "Epoch 77/200\n",
      " - 1s - loss: 0.0319 - acc: 0.9693 - val_loss: 0.0803 - val_acc: 0.8800\n",
      "Epoch 78/200\n",
      " - 1s - loss: 0.0321 - acc: 0.9653 - val_loss: 0.0782 - val_acc: 0.8800\n",
      "Epoch 79/200\n",
      " - 1s - loss: 0.0310 - acc: 0.9680 - val_loss: 0.0423 - val_acc: 0.9600\n",
      "Epoch 80/200\n",
      " - 1s - loss: 0.0319 - acc: 0.9693 - val_loss: 0.0745 - val_acc: 0.9000\n",
      "Epoch 81/200\n",
      " - 1s - loss: 0.0312 - acc: 0.9680 - val_loss: 0.0552 - val_acc: 0.9200\n",
      "Epoch 82/200\n",
      " - 1s - loss: 0.0310 - acc: 0.9693 - val_loss: 0.0620 - val_acc: 0.9200\n",
      "Epoch 83/200\n",
      " - 1s - loss: 0.0306 - acc: 0.9693 - val_loss: 0.0804 - val_acc: 0.8800\n",
      "Epoch 84/200\n",
      " - 1s - loss: 0.0316 - acc: 0.9667 - val_loss: 0.0398 - val_acc: 0.9600\n",
      "Epoch 85/200\n",
      " - 1s - loss: 0.0369 - acc: 0.9587 - val_loss: 0.0979 - val_acc: 0.8800\n",
      "Epoch 86/200\n",
      " - 1s - loss: 0.0348 - acc: 0.9640 - val_loss: 0.0393 - val_acc: 0.9600\n",
      "Epoch 87/200\n",
      " - 1s - loss: 0.0386 - acc: 0.9560 - val_loss: 0.0925 - val_acc: 0.8800\n",
      "Epoch 88/200\n",
      " - 1s - loss: 0.0380 - acc: 0.9573 - val_loss: 0.1101 - val_acc: 0.8600\n",
      "Epoch 89/200\n",
      " - 1s - loss: 0.0421 - acc: 0.9533 - val_loss: 0.0431 - val_acc: 0.9600\n",
      "Epoch 90/200\n",
      " - 1s - loss: 0.0399 - acc: 0.9547 - val_loss: 0.1092 - val_acc: 0.8600\n",
      "Epoch 91/200\n",
      " - 1s - loss: 0.0427 - acc: 0.9507 - val_loss: 0.0547 - val_acc: 0.9400\n",
      "Epoch 92/200\n",
      " - 1s - loss: 0.0355 - acc: 0.9613 - val_loss: 0.1129 - val_acc: 0.8600\n",
      "Epoch 93/200\n",
      " - 1s - loss: 0.0446 - acc: 0.9467 - val_loss: 0.0466 - val_acc: 0.9400\n",
      "Epoch 94/200\n",
      " - 1s - loss: 0.0374 - acc: 0.9573 - val_loss: 0.1012 - val_acc: 0.8800\n",
      "Epoch 95/200\n",
      " - 1s - loss: 0.0484 - acc: 0.9453 - val_loss: 0.0436 - val_acc: 0.9400\n",
      "Epoch 96/200\n",
      " - 1s - loss: 0.0613 - acc: 0.9240 - val_loss: 0.1522 - val_acc: 0.8200\n",
      "Epoch 97/200\n",
      " - 1s - loss: 0.0937 - acc: 0.8867 - val_loss: 0.0569 - val_acc: 0.9400\n",
      "Epoch 98/200\n",
      " - 1s - loss: 0.0674 - acc: 0.9160 - val_loss: 0.0830 - val_acc: 0.9000\n",
      "Epoch 99/200\n",
      " - 1s - loss: 0.0531 - acc: 0.9373 - val_loss: 0.1202 - val_acc: 0.8400\n",
      "Epoch 100/200\n",
      " - 1s - loss: 0.0491 - acc: 0.9427 - val_loss: 0.0555 - val_acc: 0.9200\n",
      "Epoch 101/200\n",
      " - 1s - loss: 0.0655 - acc: 0.9173 - val_loss: 0.1289 - val_acc: 0.8600\n",
      "Epoch 102/200\n",
      " - 1s - loss: 0.0648 - acc: 0.9200 - val_loss: 0.0551 - val_acc: 0.9400\n",
      "Epoch 103/200\n",
      " - 1s - loss: 0.0503 - acc: 0.9360 - val_loss: 0.0650 - val_acc: 0.9400\n",
      "Epoch 104/200\n",
      " - 1s - loss: 0.0475 - acc: 0.9480 - val_loss: 0.1227 - val_acc: 0.8400\n",
      "Epoch 105/200\n",
      " - 1s - loss: 0.0551 - acc: 0.9360 - val_loss: 0.0518 - val_acc: 0.9200\n",
      "Epoch 106/200\n",
      " - 1s - loss: 0.0586 - acc: 0.9267 - val_loss: 0.0735 - val_acc: 0.9000\n",
      "Epoch 107/200\n",
      " - 1s - loss: 0.0435 - acc: 0.9533 - val_loss: 0.0876 - val_acc: 0.9000\n",
      "Epoch 108/200\n",
      " - 1s - loss: 0.0403 - acc: 0.9547 - val_loss: 0.0493 - val_acc: 0.9400\n",
      "Epoch 109/200\n",
      " - 1s - loss: 0.0430 - acc: 0.9520 - val_loss: 0.0669 - val_acc: 0.9000\n",
      "Epoch 110/200\n",
      " - 1s - loss: 0.0359 - acc: 0.9613 - val_loss: 0.0727 - val_acc: 0.9000\n",
      "Epoch 111/200\n",
      " - 1s - loss: 0.0369 - acc: 0.9587 - val_loss: 0.0561 - val_acc: 0.9400\n",
      "Epoch 112/200\n",
      " - 1s - loss: 0.0350 - acc: 0.9613 - val_loss: 0.0592 - val_acc: 0.9400\n",
      "Epoch 113/200\n",
      " - 1s - loss: 0.0342 - acc: 0.9640 - val_loss: 0.0649 - val_acc: 0.9200\n",
      "Epoch 114/200\n",
      " - 1s - loss: 0.0342 - acc: 0.9653 - val_loss: 0.0567 - val_acc: 0.9400\n",
      "Epoch 115/200\n",
      " - 1s - loss: 0.0350 - acc: 0.9627 - val_loss: 0.0650 - val_acc: 0.9200\n",
      "Epoch 116/200\n",
      " - 1s - loss: 0.0338 - acc: 0.9653 - val_loss: 0.0797 - val_acc: 0.9000\n",
      "Epoch 117/200\n",
      " - 1s - loss: 0.0355 - acc: 0.9627 - val_loss: 0.0493 - val_acc: 0.9400\n",
      "Epoch 118/200\n",
      " - 1s - loss: 0.0341 - acc: 0.9653 - val_loss: 0.0669 - val_acc: 0.9200\n",
      "Epoch 119/200\n",
      " - 1s - loss: 0.0349 - acc: 0.9613 - val_loss: 0.0616 - val_acc: 0.9400\n",
      "Epoch 120/200\n",
      " - 1s - loss: 0.0317 - acc: 0.9680 - val_loss: 0.0411 - val_acc: 0.9600\n",
      "Epoch 121/200\n",
      " - 1s - loss: 0.0383 - acc: 0.9600 - val_loss: 0.1143 - val_acc: 0.8800\n",
      "Epoch 122/200\n",
      " - 1s - loss: 0.0459 - acc: 0.9440 - val_loss: 0.0404 - val_acc: 0.9600\n",
      "Epoch 123/200\n",
      " - 1s - loss: 0.0424 - acc: 0.9493 - val_loss: 0.0834 - val_acc: 0.8800\n",
      "Epoch 124/200\n",
      " - 1s - loss: 0.0344 - acc: 0.9627 - val_loss: 0.0645 - val_acc: 0.9200\n",
      "Epoch 125/200\n",
      " - 1s - loss: 0.0323 - acc: 0.9653 - val_loss: 0.0497 - val_acc: 0.9400\n",
      "Epoch 126/200\n",
      " - 1s - loss: 0.0319 - acc: 0.9667 - val_loss: 0.0696 - val_acc: 0.9200\n",
      "Epoch 127/200\n",
      " - 1s - loss: 0.0328 - acc: 0.9653 - val_loss: 0.0532 - val_acc: 0.9400\n",
      "Epoch 128/200\n",
      " - 1s - loss: 0.0326 - acc: 0.9667 - val_loss: 0.0555 - val_acc: 0.9400\n",
      "Epoch 129/200\n",
      " - 1s - loss: 0.0318 - acc: 0.9680 - val_loss: 0.0885 - val_acc: 0.8800\n",
      "Epoch 130/200\n",
      " - 1s - loss: 0.0334 - acc: 0.9640 - val_loss: 0.0489 - val_acc: 0.9400\n",
      "Epoch 131/200\n",
      " - 1s - loss: 0.0314 - acc: 0.9680 - val_loss: 0.0492 - val_acc: 0.9400\n",
      "Epoch 132/200\n",
      " - 1s - loss: 0.0307 - acc: 0.9680 - val_loss: 0.0766 - val_acc: 0.8800\n",
      "Epoch 133/200\n",
      " - 1s - loss: 0.0317 - acc: 0.9653 - val_loss: 0.0496 - val_acc: 0.9400\n",
      "Epoch 134/200\n",
      " - 1s - loss: 0.0311 - acc: 0.9693 - val_loss: 0.0539 - val_acc: 0.9400\n",
      "Epoch 135/200\n",
      " - 1s - loss: 0.0310 - acc: 0.9680 - val_loss: 0.0665 - val_acc: 0.9200\n",
      "Epoch 136/200\n",
      " - 1s - loss: 0.0306 - acc: 0.9693 - val_loss: 0.0444 - val_acc: 0.9400\n",
      "Epoch 137/200\n",
      " - 1s - loss: 0.0307 - acc: 0.9693 - val_loss: 0.0502 - val_acc: 0.9400\n",
      "Epoch 138/200\n",
      " - 1s - loss: 0.0307 - acc: 0.9693 - val_loss: 0.0581 - val_acc: 0.9200\n",
      "Epoch 139/200\n",
      " - 1s - loss: 0.0303 - acc: 0.9693 - val_loss: 0.0454 - val_acc: 0.9400\n",
      "Epoch 140/200\n",
      " - 1s - loss: 0.0305 - acc: 0.9693 - val_loss: 0.0601 - val_acc: 0.9200\n",
      "Epoch 141/200\n",
      " - 1s - loss: 0.0304 - acc: 0.9693 - val_loss: 0.0651 - val_acc: 0.9200\n",
      "Epoch 142/200\n",
      " - 1s - loss: 0.0301 - acc: 0.9693 - val_loss: 0.0463 - val_acc: 0.9400\n",
      "Epoch 143/200\n",
      " - 1s - loss: 0.0305 - acc: 0.9693 - val_loss: 0.0591 - val_acc: 0.9200\n",
      "Epoch 144/200\n",
      " - 1s - loss: 0.0300 - acc: 0.9680 - val_loss: 0.0803 - val_acc: 0.8800\n",
      "Epoch 145/200\n",
      " - 1s - loss: 0.0307 - acc: 0.9680 - val_loss: 0.0446 - val_acc: 0.9400\n",
      "Epoch 146/200\n",
      " - 1s - loss: 0.0306 - acc: 0.9693 - val_loss: 0.0440 - val_acc: 0.9400\n",
      "Epoch 147/200\n",
      " - 1s - loss: 0.0299 - acc: 0.9693 - val_loss: 0.0904 - val_acc: 0.8800\n",
      "Epoch 148/200\n",
      " - 1s - loss: 0.0327 - acc: 0.9627 - val_loss: 0.0462 - val_acc: 0.9400\n",
      "Epoch 149/200\n",
      " - 1s - loss: 0.0325 - acc: 0.9627 - val_loss: 0.0795 - val_acc: 0.8800\n",
      "Epoch 150/200\n",
      " - 1s - loss: 0.0415 - acc: 0.9507 - val_loss: 0.0417 - val_acc: 0.9600\n",
      "Epoch 151/200\n",
      " - 1s - loss: 0.0456 - acc: 0.9440 - val_loss: 0.1019 - val_acc: 0.8600\n",
      "Epoch 152/200\n",
      " - 1s - loss: 0.0368 - acc: 0.9600 - val_loss: 0.0627 - val_acc: 0.9200\n",
      "Epoch 153/200\n",
      " - 1s - loss: 0.0331 - acc: 0.9653 - val_loss: 0.0596 - val_acc: 0.9400\n",
      "Epoch 154/200\n",
      " - 1s - loss: 0.0303 - acc: 0.9693 - val_loss: 0.1114 - val_acc: 0.8800\n",
      "Epoch 155/200\n",
      " - 1s - loss: 0.0404 - acc: 0.9547 - val_loss: 0.0432 - val_acc: 0.9600\n",
      "Epoch 156/200\n",
      " - 1s - loss: 0.0600 - acc: 0.9187 - val_loss: 0.1331 - val_acc: 0.8400\n",
      "Epoch 157/200\n",
      " - 1s - loss: 0.0555 - acc: 0.9307 - val_loss: 0.0662 - val_acc: 0.8800\n",
      "Epoch 158/200\n",
      " - 1s - loss: 0.0783 - acc: 0.9053 - val_loss: 0.1384 - val_acc: 0.8400\n",
      "Epoch 159/200\n",
      " - 1s - loss: 0.0666 - acc: 0.9200 - val_loss: 0.0431 - val_acc: 0.9600\n",
      "Epoch 160/200\n",
      " - 1s - loss: 0.0635 - acc: 0.9200 - val_loss: 0.1341 - val_acc: 0.8400\n",
      "Epoch 161/200\n",
      " - 1s - loss: 0.0922 - acc: 0.8880 - val_loss: 0.1095 - val_acc: 0.8600\n",
      "Epoch 162/200\n",
      " - 1s - loss: 0.0446 - acc: 0.9467 - val_loss: 0.0658 - val_acc: 0.8800\n",
      "Epoch 163/200\n",
      " - 1s - loss: 0.0719 - acc: 0.9093 - val_loss: 0.1506 - val_acc: 0.8400\n",
      "Epoch 164/200\n",
      " - 1s - loss: 0.0898 - acc: 0.8933 - val_loss: 0.0614 - val_acc: 0.9400\n",
      "Epoch 165/200\n",
      " - 1s - loss: 0.0534 - acc: 0.9333 - val_loss: 0.0535 - val_acc: 0.9400\n",
      "Epoch 166/200\n",
      " - 1s - loss: 0.0448 - acc: 0.9440 - val_loss: 0.1149 - val_acc: 0.8600\n",
      "Epoch 167/200\n",
      " - 1s - loss: 0.0536 - acc: 0.9373 - val_loss: 0.0538 - val_acc: 0.9400\n",
      "Epoch 168/200\n",
      " - 1s - loss: 0.0467 - acc: 0.9413 - val_loss: 0.0544 - val_acc: 0.9400\n",
      "Epoch 169/200\n",
      " - 1s - loss: 0.0411 - acc: 0.9547 - val_loss: 0.1068 - val_acc: 0.8400\n",
      "Epoch 170/200\n",
      " - 1s - loss: 0.0520 - acc: 0.9387 - val_loss: 0.0574 - val_acc: 0.9400\n",
      "Epoch 171/200\n",
      " - 1s - loss: 0.0388 - acc: 0.9587 - val_loss: 0.0518 - val_acc: 0.9400\n",
      "Epoch 172/200\n",
      " - 1s - loss: 0.0385 - acc: 0.9573 - val_loss: 0.0787 - val_acc: 0.9000\n",
      "Epoch 173/200\n",
      " - 1s - loss: 0.0397 - acc: 0.9573 - val_loss: 0.0698 - val_acc: 0.9000\n",
      "Epoch 174/200\n",
      " - 1s - loss: 0.0365 - acc: 0.9587 - val_loss: 0.0526 - val_acc: 0.9400\n",
      "Epoch 175/200\n",
      " - 1s - loss: 0.0372 - acc: 0.9613 - val_loss: 0.0579 - val_acc: 0.9400\n",
      "Epoch 176/200\n",
      " - 1s - loss: 0.0343 - acc: 0.9640 - val_loss: 0.0679 - val_acc: 0.9200\n",
      "Epoch 177/200\n",
      " - 1s - loss: 0.0354 - acc: 0.9640 - val_loss: 0.0582 - val_acc: 0.9400\n",
      "Epoch 178/200\n",
      " - 1s - loss: 0.0342 - acc: 0.9640 - val_loss: 0.0523 - val_acc: 0.9400\n",
      "Epoch 179/200\n",
      " - 1s - loss: 0.0348 - acc: 0.9640 - val_loss: 0.0716 - val_acc: 0.9000\n",
      "Epoch 180/200\n",
      " - 1s - loss: 0.0352 - acc: 0.9613 - val_loss: 0.0599 - val_acc: 0.9200\n",
      "Epoch 181/200\n",
      " - 1s - loss: 0.0347 - acc: 0.9640 - val_loss: 0.0533 - val_acc: 0.9400\n",
      "Epoch 182/200\n",
      " - 1s - loss: 0.0343 - acc: 0.9627 - val_loss: 0.0793 - val_acc: 0.9000\n",
      "Epoch 183/200\n",
      " - 1s - loss: 0.0350 - acc: 0.9600 - val_loss: 0.0565 - val_acc: 0.9400\n",
      "Epoch 184/200\n",
      " - 1s - loss: 0.0329 - acc: 0.9667 - val_loss: 0.0567 - val_acc: 0.9400\n",
      "Epoch 185/200\n",
      " - 1s - loss: 0.0325 - acc: 0.9653 - val_loss: 0.0724 - val_acc: 0.9000\n",
      "Epoch 186/200\n",
      " - 1s - loss: 0.0327 - acc: 0.9640 - val_loss: 0.0551 - val_acc: 0.9400\n",
      "Epoch 187/200\n",
      " - 1s - loss: 0.0315 - acc: 0.9693 - val_loss: 0.0541 - val_acc: 0.9400\n",
      "Epoch 188/200\n",
      " - 1s - loss: 0.0312 - acc: 0.9693 - val_loss: 0.0658 - val_acc: 0.9200\n",
      "Epoch 189/200\n",
      " - 1s - loss: 0.0315 - acc: 0.9653 - val_loss: 0.0670 - val_acc: 0.9200\n",
      "Epoch 190/200\n",
      " - 1s - loss: 0.0311 - acc: 0.9653 - val_loss: 0.0521 - val_acc: 0.9400\n",
      "Epoch 191/200\n",
      " - 1s - loss: 0.0313 - acc: 0.9693 - val_loss: 0.0579 - val_acc: 0.9200\n",
      "Epoch 192/200\n",
      " - 1s - loss: 0.0310 - acc: 0.9680 - val_loss: 0.0656 - val_acc: 0.9200\n",
      "Epoch 193/200\n",
      " - 1s - loss: 0.0308 - acc: 0.9680 - val_loss: 0.0500 - val_acc: 0.9400\n",
      "Epoch 194/200\n",
      " - 1s - loss: 0.0310 - acc: 0.9693 - val_loss: 0.0567 - val_acc: 0.9200\n",
      "Epoch 195/200\n",
      " - 1s - loss: 0.0303 - acc: 0.9680 - val_loss: 0.0630 - val_acc: 0.9200\n",
      "Epoch 196/200\n",
      " - 1s - loss: 0.0301 - acc: 0.9693 - val_loss: 0.0536 - val_acc: 0.9400\n",
      "Epoch 197/200\n",
      " - 1s - loss: 0.0301 - acc: 0.9693 - val_loss: 0.0539 - val_acc: 0.9200\n",
      "Epoch 198/200\n",
      " - 1s - loss: 0.0298 - acc: 0.9693 - val_loss: 0.0637 - val_acc: 0.9200\n",
      "Epoch 199/200\n",
      " - 1s - loss: 0.0299 - acc: 0.9693 - val_loss: 0.0575 - val_acc: 0.9200\n",
      "Epoch 200/200\n",
      " - 1s - loss: 0.0293 - acc: 0.9693 - val_loss: 0.0513 - val_acc: 0.9200\n"
     ]
    }
   ],
   "source": [
    "epoch = 200\n",
    "batchS = 500\n",
    "\n",
    "history = model.fit(np.array(data[0:750]), np.array(target[0:750]), epochs=epoch,\n",
    "                    validation_data=(np.array(data[750:]), np.array(target[750:])), \n",
    "                    batch_size=batchS, verbose=2)"
   ]
  },
  {
   "cell_type": "markdown",
   "metadata": {
    "colab_type": "text",
    "id": "BVJCgz3bA4A3"
   },
   "source": [
    "## Test the model"
   ]
  },
  {
   "cell_type": "markdown",
   "metadata": {
    "colab_type": "text",
    "id": "3MwCq0LpA59G"
   },
   "source": [
    "We are going to test the model with 20 % of the total videos. This videos have not been used to train the network. "
   ]
  },
  {
   "cell_type": "code",
   "execution_count": 38,
   "metadata": {
    "colab": {
     "base_uri": "https://localhost:8080/",
     "height": 34
    },
    "colab_type": "code",
    "id": "VDXFFy6zBG3X",
    "outputId": "6ac389f9-6400-401d-dfe7-c3e90ce8a0e4"
   },
   "outputs": [
    {
     "name": "stdout",
     "output_type": "stream",
     "text": [
      "200/200 [==============================] - 0s 2ms/step\n"
     ]
    }
   ],
   "source": [
    "result = model.evaluate(np.array(data_test), np.array(target_test))"
   ]
  },
  {
   "cell_type": "markdown",
   "metadata": {
    "colab_type": "text",
    "id": "8YG-bPW4BL6U"
   },
   "source": [
    "## Print the model accuracy"
   ]
  },
  {
   "cell_type": "code",
   "execution_count": 39,
   "metadata": {
    "colab": {
     "base_uri": "https://localhost:8080/",
     "height": 51
    },
    "colab_type": "code",
    "id": "wBV2t2Q6BOt9",
    "outputId": "1dadcb49-b517-4cdc-9624-cb76c529b457"
   },
   "outputs": [
    {
     "name": "stdout",
     "output_type": "stream",
     "text": [
      "loss 0.042483150847256186\n",
      "acc 0.94\n"
     ]
    }
   ],
   "source": [
    "for name, value in zip(model.metrics_names, result):\n",
    "    print(name, value)"
   ]
  },
  {
   "cell_type": "code",
   "execution_count": 40,
   "metadata": {
    "colab": {
     "base_uri": "https://localhost:8080/",
     "height": 571
    },
    "colab_type": "code",
    "id": "zO6YSbxgBZ3f",
    "outputId": "f8a99f0c-2cf2-4228-f6ac-9083c39443fb"
   },
   "outputs": [
    {
     "data": {
      "image/png": "[encoded data removed]",
      "text/plain": [
       "<Figure size 432x288 with 1 Axes>"
      ]
     },
     "metadata": {
      "tags": []
     },
     "output_type": "display_data"
    },
    {
     "data": {
      "image/png": "[encoded data removed]",
      "text/plain": [
       "<Figure size 432x288 with 1 Axes>"
      ]
     },
     "metadata": {
      "tags": []
     },
     "output_type": "display_data"
    }
   ],
   "source": [
    "plt.plot(history.history['acc'])\n",
    "plt.plot(history.history['val_acc'])\n",
    "plt.title('model accuracy')\n",
    "plt.ylabel('accuracy')\n",
    "plt.xlabel('epoch')\n",
    "plt.legend(['train', 'validation'], loc='upper left')\n",
    "plt.savefig('destination_path.eps', format='eps', dpi=1000)\n",
    "plt.show()\n",
    "# summarize history for loss\n",
    "plt.plot(history.history['loss'])\n",
    "plt.plot(history.history['val_loss'])\n",
    "plt.title('model loss')\n",
    "plt.ylabel('loss')\n",
    "plt.xlabel('epoch')\n",
    "plt.legend(['train', 'validation'], loc='upper left')\n",
    "plt.savefig('destination_path1.eps', format='eps', dpi=1000)\n",
    "plt.show()"
   ]
  }
 ],
 "metadata": {
  "accelerator": "GPU",
  "colab": {
   "collapsed_sections": [],
   "name": "ViolenceDetection22",
   "provenance": [],
   "version": "0.3.2"
  },
  "kernelspec": {
   "display_name": "Python 3",
   "language": "python",
   "name": "python3"
  },
  "language_info": {
   "codemirror_mode": {
    "name": "ipython",
    "version": 3
   },
   "file_extension": ".py",
   "mimetype": "text/x-python",
   "name": "python",
   "nbconvert_exporter": "python",
   "pygments_lexer": "ipython3",
   "version": "3.8.3"
  }
 },
 "nbformat": 4,
 "nbformat_minor": 1
}
