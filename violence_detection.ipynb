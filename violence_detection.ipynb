{
 "cells": [
  {
   "cell_type": "markdown",
   "metadata": {
    "colab_type": "text",
    "id": "UVXa7uMnOlkp"
   },
   "source": [
    "## Imports"
   ]
  },
  {
   "cell_type": "code",
   "execution_count": 2,
   "metadata": {
    "colab": {
     "base_uri": "https://localhost:8080/",
     "height": 34
    },
    "colab_type": "code",
    "id": "oDfDnlliPMd-",
    "outputId": "7582c7ed-2ba2-4164-e043-d0c8d31ba19f"
   },
   "outputs": [],
   "source": [
    "%matplotlib inline\n",
    "import cv2\n",
    "import os\n",
    "import numpy as np\n",
    "import keras\n",
    "import matplotlib.pyplot as plt\n",
    "import download\n",
    "from random import shuffle\n",
    "from keras.applications import VGG16\n",
    "from keras import backend as K\n",
    "from keras.models import Model, Sequential\n",
    "from keras.layers import Input\n",
    "from keras.layers import LSTM\n",
    "from keras.layers import Dense, Activation\n",
    "import sys\n",
    "import h5py"
   ]
  },
  {
   "cell_type": "code",
   "execution_count": 69,
   "metadata": {},
   "outputs": [],
   "source": [
    "import numpy\n",
    "numpy.set_printoptions(threshold=np.inf)"
   ]
  },
  {
   "cell_type": "code",
   "execution_count": 6,
   "metadata": {
    "colab": {
     "base_uri": "https://localhost:8080/",
     "height": 34
    },
    "colab_type": "code",
    "id": "kFU6Qg8mPXvv",
    "outputId": "04a2d803-e425-4335-94e8-71e91d05d6b1"
   },
   "outputs": [
    {
     "data": {
      "text/plain": [
       "'2.4.3'"
      ]
     },
     "execution_count": 6,
     "metadata": {},
     "output_type": "execute_result"
    }
   ],
   "source": [
    "keras.__version__"
   ]
  },
  {
   "cell_type": "code",
   "execution_count": 7,
   "metadata": {
    "colab": {},
    "colab_type": "code",
    "id": "qnafWmS7P3CG"
   },
   "outputs": [],
   "source": [
    "def print_progress(count, max_count):\n",
    "    # Percentage completion.\n",
    "    pct_complete = count / max_count\n",
    "\n",
    "    # Status-message. Note the \\r which means the line should\n",
    "    # overwrite itself.\n",
    "    msg = \"\\r- Progress: {0:.1%}\".format(pct_complete)\n",
    "\n",
    "    # Print it.\n",
    "    sys.stdout.write(msg)\n",
    "    sys.stdout.flush()"
   ]
  },
  {
   "cell_type": "code",
   "execution_count": 8,
   "metadata": {
    "colab": {},
    "colab_type": "code",
    "id": "j1V5cxltP5U-"
   },
   "outputs": [],
   "source": [
    "def download_data(in_dir, url):\n",
    "    \n",
    "    if not os.path.exists(in_dir):\n",
    "        os.makedirs(in_dir)\n",
    "    \n",
    "    download.maybe_download_and_extract(url,in_dir)"
   ]
  },
  {
   "cell_type": "code",
   "execution_count": 9,
   "metadata": {
    "colab": {},
    "colab_type": "code",
    "id": "RiRKgwBgP-NY"
   },
   "outputs": [],
   "source": [
    "in_dir = \"data\""
   ]
  },
  {
   "cell_type": "code",
   "execution_count": 11,
   "metadata": {
    "colab": {},
    "colab_type": "code",
    "id": "YX0Qk202QCvw"
   },
   "outputs": [],
   "source": [
    "url_hockey = \"http://visilab.etsii.uclm.es/personas/oscar/FightDetection/HockeyFights.zip\""
   ]
  },
  {
   "cell_type": "code",
   "execution_count": 12,
   "metadata": {
    "colab": {
     "base_uri": "https://localhost:8080/",
     "height": 34
    },
    "colab_type": "code",
    "id": "urX5VyFzRF-o",
    "outputId": "ec619e67-5d10-413f-d510-aaeadfbf3116"
   },
   "outputs": [
    {
     "name": "stdout",
     "output_type": "stream",
     "text": [
      "- Download progress: 100.0%\n",
      "Download finished. Extracting files.\n",
      "Done.\n"
     ]
    }
   ],
   "source": [
    "download_data(in_dir,url_hockey)"
   ]
  },
  {
   "cell_type": "code",
   "execution_count": 13,
   "metadata": {
    "colab": {},
    "colab_type": "code",
    "id": "SXTNEj6SRLZZ"
   },
   "outputs": [],
   "source": [
    "# Frame size  \n",
    "img_size = 224\n",
    "\n",
    "img_size_touple = (img_size, img_size)\n",
    "\n",
    "# Number of channels (RGB)\n",
    "num_channels = 3\n",
    "\n",
    "# Flat frame size\n",
    "img_size_flat = img_size * img_size * num_channels\n",
    "\n",
    "# Number of classes for classification (Violence-No Violence)\n",
    "num_classes = 2\n",
    "\n",
    "# Number of files to train\n",
    "_num_files_train = 1\n",
    "\n",
    "# Number of frames per video\n",
    "_images_per_file = 20\n",
    "\n",
    "# Number of frames per training set\n",
    "_num_images_train = _num_files_train * _images_per_file\n",
    "\n",
    "# Video extension\n",
    "video_exts = \".avi\""
   ]
  },
  {
   "cell_type": "code",
   "execution_count": 14,
   "metadata": {
    "colab": {},
    "colab_type": "code",
    "id": "eu9c4a-3RVkO"
   },
   "outputs": [],
   "source": [
    "def get_frames(current_dir, file_name):\n",
    "    \n",
    "    in_file = os.path.join(current_dir, file_name)\n",
    "    \n",
    "    images = []\n",
    "    \n",
    "    vidcap = cv2.VideoCapture(in_file)\n",
    "    \n",
    "    success,image = vidcap.read()\n",
    "        \n",
    "    count = 0\n",
    "\n",
    "    while count<_images_per_file:\n",
    "                \n",
    "        RGB_img = cv2.cvtColor(image, cv2.COLOR_BGR2RGB)\n",
    "    \n",
    "        res = cv2.resize(RGB_img, dsize=(img_size, img_size),\n",
    "                                 interpolation=cv2.INTER_CUBIC)\n",
    "    \n",
    "        images.append(res)\n",
    "    \n",
    "        success,image = vidcap.read()\n",
    "    \n",
    "        count += 1\n",
    "        \n",
    "    resul = np.array(images)\n",
    "    \n",
    "    resul = (resul / 255.).astype(np.float16)\n",
    "        \n",
    "    return resul"
   ]
  },
  {
   "cell_type": "code",
   "execution_count": 15,
   "metadata": {
    "colab": {},
    "colab_type": "code",
    "id": "Qiv5NIJjRbIA"
   },
   "outputs": [],
   "source": [
    "def label_video_names(in_dir):\n",
    "    \n",
    "    # list containing video names\n",
    "    names = []\n",
    "    # list containin video labels [1, 0] if it has violence and [0, 1] if not\n",
    "    labels = []\n",
    "    \n",
    "    \n",
    "    for current_dir, dir_names,file_names in os.walk(in_dir):\n",
    "        \n",
    "        for file_name in file_names:\n",
    "            \n",
    "            if file_name[0:2] == 'fi':\n",
    "                labels.append([1,0])\n",
    "                names.append(file_name)\n",
    "            elif file_name[0:2] == 'no':\n",
    "                labels.append([0,1])\n",
    "                names.append(file_name)\n",
    "                     \n",
    "            \n",
    "    c = list(zip(names,labels))\n",
    "    # Suffle the data (names and labels)\n",
    "    shuffle(c)\n",
    "    \n",
    "    names, labels = zip(*c)\n",
    "            \n",
    "    return names, labels"
   ]
  },
  {
   "cell_type": "code",
   "execution_count": 16,
   "metadata": {
    "colab": {},
    "colab_type": "code",
    "id": "dIsaAgcyRfIx"
   },
   "outputs": [],
   "source": [
    "# First get the names and labels of the whole videos\n",
    "names, labels = label_video_names(in_dir)"
   ]
  },
  {
   "cell_type": "code",
   "execution_count": 17,
   "metadata": {
    "colab": {
     "base_uri": "https://localhost:8080/",
     "height": 34
    },
    "colab_type": "code",
    "id": "xUfZO-0BRj0f",
    "outputId": "e2b913dc-c39f-4d5f-a0d6-da1273692fbc"
   },
   "outputs": [
    {
     "data": {
      "text/plain": [
       "'no206_xvid.avi'"
      ]
     },
     "execution_count": 17,
     "metadata": {},
     "output_type": "execute_result"
    }
   ],
   "source": [
    "names[12]"
   ]
  },
  {
   "cell_type": "code",
   "execution_count": 18,
   "metadata": {
    "colab": {},
    "colab_type": "code",
    "id": "EqBi8z6rRoMW"
   },
   "outputs": [],
   "source": [
    "frames = get_frames(in_dir, names[12])"
   ]
  },
  {
   "cell_type": "code",
   "execution_count": 19,
   "metadata": {
    "colab": {},
    "colab_type": "code",
    "id": "9ihSA_ogRsNU"
   },
   "outputs": [],
   "source": [
    "visible_frame = (frames*255).astype('uint8')"
   ]
  },
  {
   "cell_type": "code",
   "execution_count": 20,
   "metadata": {
    "colab": {
     "base_uri": "https://localhost:8080/",
     "height": 286
    },
    "colab_type": "code",
    "id": "PM1kNhaHRvSv",
    "outputId": "e2a6d324-cb62-42d2-dd8f-1cf1c464d168"
   },
   "outputs": [
    {
     "data": {
      "text/plain": [
       "<matplotlib.image.AxesImage at 0x1e8b16e9bb0>"
      ]
     },
     "execution_count": 20,
     "metadata": {},
     "output_type": "execute_result"
    },
    {
     "data": {
      "image/png": "[encoded data removed]",
      "text/plain": [
       "<Figure size 432x288 with 1 Axes>"
      ]
     },
     "metadata": {
      "needs_background": "light"
     },
     "output_type": "display_data"
    }
   ],
   "source": [
    "plt.imshow(visible_frame[3])"
   ]
  },
  {
   "cell_type": "code",
   "execution_count": 21,
   "metadata": {
    "colab": {
     "base_uri": "https://localhost:8080/",
     "height": 286
    },
    "colab_type": "code",
    "id": "_gVWtYPvR8n2",
    "outputId": "f9858ffa-3981-4b85-9c4d-62057bb8972c"
   },
   "outputs": [
    {
     "data": {
      "text/plain": [
       "<matplotlib.image.AxesImage at 0x1e8b25c41c0>"
      ]
     },
     "execution_count": 21,
     "metadata": {},
     "output_type": "execute_result"
    },
    {
     "data": {
      "image/png": "[encoded data removed]",
      "text/plain": [
       "<Figure size 432x288 with 1 Axes>"
      ]
     },
     "metadata": {
      "needs_background": "light"
     },
     "output_type": "display_data"
    }
   ],
   "source": [
    "plt.imshow(visible_frame[15])"
   ]
  },
  {
   "cell_type": "markdown",
   "metadata": {
    "colab_type": "text",
    "id": "0o6FA6slSA1l"
   },
   "source": [
    "The VGG16 model contains a convolutional part and a fully-connected (or dense) part which is used for classification. If include_top=True then the whole VGG16 model is downloaded which is about 528 MB. If include_top=False then only the convolutional part of the VGG16 model is downloaded which is just 57 MB."
   ]
  },
  {
   "cell_type": "code",
   "execution_count": 22,
   "metadata": {
    "colab": {
     "base_uri": "https://localhost:8080/",
     "height": 88
    },
    "colab_type": "code",
    "id": "MjRN6oE4SC81",
    "outputId": "1a9fbd16-9741-406d-b4fd-e3a20cd34a0d"
   },
   "outputs": [
    {
     "name": "stdout",
     "output_type": "stream",
     "text": [
      "Downloading data from https://storage.googleapis.com/tensorflow/keras-applications/vgg16/vgg16_weights_tf_dim_ordering_tf_kernels.h5\n",
      "553467904/553467096 [==============================] - 93s 0us/step\n"
     ]
    }
   ],
   "source": [
    "image_model = VGG16(include_top=True, weights='imagenet')"
   ]
  },
  {
   "cell_type": "code",
   "execution_count": 23,
   "metadata": {
    "colab": {
     "base_uri": "https://localhost:8080/",
     "height": 918
    },
    "colab_type": "code",
    "id": "ud7OU0t7SQPi",
    "outputId": "20718d3a-c1d3-4a06-d6f5-de3c465311df"
   },
   "outputs": [
    {
     "name": "stdout",
     "output_type": "stream",
     "text": [
      "Model: \"vgg16\"\n",
      "_________________________________________________________________\n",
      "Layer (type)                 Output Shape              Param #   \n",
      "=================================================================\n",
      "input_1 (InputLayer)         [(None, 224, 224, 3)]     0         \n",
      "_________________________________________________________________\n",
      "block1_conv1 (Conv2D)        (None, 224, 224, 64)      1792      \n",
      "_________________________________________________________________\n",
      "block1_conv2 (Conv2D)        (None, 224, 224, 64)      36928     \n",
      "_________________________________________________________________\n",
      "block1_pool (MaxPooling2D)   (None, 112, 112, 64)      0         \n",
      "_________________________________________________________________\n",
      "block2_conv1 (Conv2D)        (None, 112, 112, 128)     73856     \n",
      "_________________________________________________________________\n",
      "block2_conv2 (Conv2D)        (None, 112, 112, 128)     147584    \n",
      "_________________________________________________________________\n",
      "block2_pool (MaxPooling2D)   (None, 56, 56, 128)       0         \n",
      "_________________________________________________________________\n",
      "block3_conv1 (Conv2D)        (None, 56, 56, 256)       295168    \n",
      "_________________________________________________________________\n",
      "block3_conv2 (Conv2D)        (None, 56, 56, 256)       590080    \n",
      "_________________________________________________________________\n",
      "block3_conv3 (Conv2D)        (None, 56, 56, 256)       590080    \n",
      "_________________________________________________________________\n",
      "block3_pool (MaxPooling2D)   (None, 28, 28, 256)       0         \n",
      "_________________________________________________________________\n",
      "block4_conv1 (Conv2D)        (None, 28, 28, 512)       1180160   \n",
      "_________________________________________________________________\n",
      "block4_conv2 (Conv2D)        (None, 28, 28, 512)       2359808   \n",
      "_________________________________________________________________\n",
      "block4_conv3 (Conv2D)        (None, 28, 28, 512)       2359808   \n",
      "_________________________________________________________________\n",
      "block4_pool (MaxPooling2D)   (None, 14, 14, 512)       0         \n",
      "_________________________________________________________________\n",
      "block5_conv1 (Conv2D)        (None, 14, 14, 512)       2359808   \n",
      "_________________________________________________________________\n",
      "block5_conv2 (Conv2D)        (None, 14, 14, 512)       2359808   \n",
      "_________________________________________________________________\n",
      "block5_conv3 (Conv2D)        (None, 14, 14, 512)       2359808   \n",
      "_________________________________________________________________\n",
      "block5_pool (MaxPooling2D)   (None, 7, 7, 512)         0         \n",
      "_________________________________________________________________\n",
      "flatten (Flatten)            (None, 25088)             0         \n",
      "_________________________________________________________________\n",
      "fc1 (Dense)                  (None, 4096)              102764544 \n",
      "_________________________________________________________________\n",
      "fc2 (Dense)                  (None, 4096)              16781312  \n",
      "_________________________________________________________________\n",
      "predictions (Dense)          (None, 1000)              4097000   \n",
      "=================================================================\n",
      "Total params: 138,357,544\n",
      "Trainable params: 138,357,544\n",
      "Non-trainable params: 0\n",
      "_________________________________________________________________\n"
     ]
    }
   ],
   "source": [
    "image_model.summary()\n",
    "\n"
   ]
  },
  {
   "cell_type": "markdown",
   "metadata": {
    "colab_type": "text",
    "id": "-NxnGLlDSTwr"
   },
   "source": [
    "We can observe the shape of the tensors expected as input by the pre-trained VGG16 model. In this case it is images of shape 224 x 224 x 3. Note that we have defined the frame size as 224x224x3. The video frame will be the input of the VGG16 net."
   ]
  },
  {
   "cell_type": "code",
   "execution_count": 25,
   "metadata": {
    "colab": {
     "base_uri": "https://localhost:8080/",
     "height": 34
    },
    "colab_type": "code",
    "id": "9a0k89M5SUjP",
    "outputId": "50971481-7dff-49de-b4ad-a3e69c2853ac"
   },
   "outputs": [
    {
     "data": {
      "text/plain": [
       "[]"
      ]
     },
     "execution_count": 25,
     "metadata": {},
     "output_type": "execute_result"
    }
   ],
   "source": [
    "input_shape = image_model.layers[0].output_shape[1:3]\n",
    "input_shape"
   ]
  },
  {
   "cell_type": "markdown",
   "metadata": {
    "colab_type": "text",
    "id": "qFUDqTiBSa0H"
   },
   "source": [
    "The following chart shows how the data flows when using the VGG16 model for Transfer Learning. First we input and process 20 video frames in batch with the VGG16 model. Just prior to the final classification layer of the VGG16 model, we save the so-called Transfer Values to a cache-file.\n",
    "\n",
    "The reason for using a cache-file is that it takes a long time to process an image with the VGG16 model. If each image is processed more than once then we can save a lot of time by caching the transfer-values.\n",
    "\n",
    "When all the videos have been processed through the VGG16 model and the resulting transfer-values saved to a cache file, then we can use those transfer-values as the input to LSTM neural network. We will then train the second neural network using the classes from the violence dataset (Violence, No-Violence), so the network learns how to classify images based on the transfer-values from the VGG16 model."
   ]
  },
  {
   "cell_type": "code",
   "execution_count": 26,
   "metadata": {
    "colab": {
     "base_uri": "https://localhost:8080/",
     "height": 51
    },
    "colab_type": "code",
    "id": "4YWFA-2tSdfB",
    "outputId": "55dcb0c7-2b8a-4420-e25e-381152197a81"
   },
   "outputs": [
    {
     "name": "stdout",
     "output_type": "stream",
     "text": [
      "The input of the VGG16 net have dimensions: (224, 224)\n",
      "The output of the selecter layer of VGG16 net have dimensions:  4096\n"
     ]
    }
   ],
   "source": [
    "# We will use the output of the layer prior to the final\n",
    "# classification-layer which is named fc2. This is a fully-connected (or dense) layer.\n",
    "transfer_layer = image_model.get_layer('fc2')\n",
    "\n",
    "image_model_transfer = Model(inputs=image_model.input,\n",
    "                             outputs=transfer_layer.output)\n",
    "\n",
    "transfer_values_size = K.int_shape(transfer_layer.output)[1]\n",
    "\n",
    "\n",
    "print(\"The input of the VGG16 net have dimensions:\",K.int_shape(image_model.input)[1:3])\n",
    "\n",
    "print(\"The output of the selecter layer of VGG16 net have dimensions: \", transfer_values_size)"
   ]
  },
  {
   "cell_type": "code",
   "execution_count": 27,
   "metadata": {
    "colab": {},
    "colab_type": "code",
    "id": "-AdxYAtiSlLF"
   },
   "outputs": [],
   "source": [
    "def get_transfer_values(current_dir, file_name):\n",
    "    \n",
    "    # Pre-allocate input-batch-array for images.\n",
    "    shape = (_images_per_file,) + img_size_touple + (3,)\n",
    "    \n",
    "    image_batch = np.zeros(shape=shape, dtype=np.float16)\n",
    "    \n",
    "    image_batch = get_frames(current_dir, file_name)\n",
    "      \n",
    "    # Pre-allocate output-array for transfer-values.\n",
    "    # Note that we use 16-bit floating-points to save memory.\n",
    "    shape = (_images_per_file, transfer_values_size)\n",
    "    transfer_values = np.zeros(shape=shape, dtype=np.float16)\n",
    "\n",
    "    transfer_values = \\\n",
    "            image_model_transfer.predict(image_batch)\n",
    "            \n",
    "    return transfer_values"
   ]
  },
  {
   "cell_type": "code",
   "execution_count": 28,
   "metadata": {
    "colab": {},
    "colab_type": "code",
    "id": "D2BvaY3eSpSH"
   },
   "outputs": [],
   "source": [
    "def proces_transfer(vid_names, in_dir, labels):\n",
    "    \n",
    "    count = 0\n",
    "    \n",
    "    tam = len(vid_names)\n",
    "    \n",
    "    # Pre-allocate input-batch-array for images.\n",
    "    shape = (_images_per_file,) + img_size_touple + (3,)\n",
    "    \n",
    "    while count<tam:\n",
    "        \n",
    "        video_name = vid_names[count]\n",
    "        \n",
    "        image_batch = np.zeros(shape=shape, dtype=np.float16)\n",
    "    \n",
    "        image_batch = get_frames(in_dir, video_name)\n",
    "        \n",
    "         # Note that we use 16-bit floating-points to save memory.\n",
    "        shape = (_images_per_file, transfer_values_size)\n",
    "        transfer_values = np.zeros(shape=shape, dtype=np.float16)\n",
    "        \n",
    "        transfer_values = \\\n",
    "            image_model_transfer.predict(image_batch)\n",
    "         \n",
    "        labels1 = labels[count]\n",
    "        \n",
    "        aux = np.ones([20,2])\n",
    "        \n",
    "        labelss = labels1*aux\n",
    "        \n",
    "        yield transfer_values, labelss\n",
    "        \n",
    "        count+=1"
   ]
  },
  {
   "cell_type": "markdown",
   "metadata": {
    "colab_type": "text",
    "id": "I-Cnv0fRSswF"
   },
   "source": [
    "We are going to define functions to get the transfer values from VGG16 with defined number of files. Then save the transfer values files used from training in one file and the ones uses for testing in another one. "
   ]
  },
  {
   "cell_type": "code",
   "execution_count": 29,
   "metadata": {
    "colab": {},
    "colab_type": "code",
    "id": "tvU53ypSSvL0"
   },
   "outputs": [],
   "source": [
    "def make_files(n_files):\n",
    "    \n",
    "    gen = proces_transfer(names_training, in_dir, labels_training)\n",
    "\n",
    "    numer = 1\n",
    "\n",
    "    # Read the first chunk to get the column dtypes\n",
    "    chunk = next(gen)\n",
    "\n",
    "    row_count = chunk[0].shape[0]\n",
    "    row_count2 = chunk[1].shape[0]\n",
    "    \n",
    "    with h5py.File('prueba.h5', 'w') as f:\n",
    "    \n",
    "        # Initialize a resizable dataset to hold the output\n",
    "        maxshape = (None,) + chunk[0].shape[1:]\n",
    "        maxshape2 = (None,) + chunk[1].shape[1:]\n",
    "    \n",
    "    \n",
    "        dset = f.create_dataset('data', shape=chunk[0].shape, maxshape=maxshape,\n",
    "                                chunks=chunk[0].shape, dtype=chunk[0].dtype)\n",
    "    \n",
    "        dset2 = f.create_dataset('labels', shape=chunk[1].shape, maxshape=maxshape2,\n",
    "                                 chunks=chunk[1].shape, dtype=chunk[1].dtype)\n",
    "    \n",
    "         # Write the first chunk of rows\n",
    "        dset[:] = chunk[0]\n",
    "        dset2[:] = chunk[1]\n",
    "\n",
    "        for chunk in gen:\n",
    "            \n",
    "            if numer == n_files:\n",
    "            \n",
    "                break\n",
    "\n",
    "            # Resize the dataset to accommodate the next chunk of rows\n",
    "            dset.resize(row_count + chunk[0].shape[0], axis=0)\n",
    "            dset2.resize(row_count2 + chunk[1].shape[0], axis=0)\n",
    "\n",
    "            # Write the next chunk\n",
    "            dset[row_count:] = chunk[0]\n",
    "            dset2[row_count:] = chunk[1]\n",
    "\n",
    "            # Increment the row count\n",
    "            row_count += chunk[0].shape[0]\n",
    "            row_count2 += chunk[1].shape[0]\n",
    "            \n",
    "            print_progress(numer, n_files)\n",
    "        \n",
    "            numer += 1"
   ]
  },
  {
   "cell_type": "code",
   "execution_count": 30,
   "metadata": {
    "colab": {},
    "colab_type": "code",
    "id": "8nK8uFExS0nX"
   },
   "outputs": [],
   "source": [
    "def make_files_test(n_files):\n",
    "    \n",
    "    gen = proces_transfer(names_test, in_dir, labels_test)\n",
    "\n",
    "    numer = 1\n",
    "\n",
    "    # Read the first chunk to get the column dtypes\n",
    "    chunk = next(gen)\n",
    "\n",
    "    row_count = chunk[0].shape[0]\n",
    "    row_count2 = chunk[1].shape[0]\n",
    "    \n",
    "    with h5py.File('pruebavalidation.h5', 'w') as f:\n",
    "    \n",
    "        # Initialize a resizable dataset to hold the output\n",
    "        maxshape = (None,) + chunk[0].shape[1:]\n",
    "        maxshape2 = (None,) + chunk[1].shape[1:]\n",
    "    \n",
    "    \n",
    "        dset = f.create_dataset('data', shape=chunk[0].shape, maxshape=maxshape,\n",
    "                                chunks=chunk[0].shape, dtype=chunk[0].dtype)\n",
    "    \n",
    "        dset2 = f.create_dataset('labels', shape=chunk[1].shape, maxshape=maxshape2,\n",
    "                                 chunks=chunk[1].shape, dtype=chunk[1].dtype)\n",
    "    \n",
    "         # Write the first chunk of rows\n",
    "        dset[:] = chunk[0]\n",
    "        dset2[:] = chunk[1]\n",
    "\n",
    "        for chunk in gen:\n",
    "            \n",
    "            if numer == n_files:\n",
    "            \n",
    "                break\n",
    "\n",
    "            # Resize the dataset to accommodate the next chunk of rows\n",
    "            dset.resize(row_count + chunk[0].shape[0], axis=0)\n",
    "            dset2.resize(row_count2 + chunk[1].shape[0], axis=0)\n",
    "\n",
    "            # Write the next chunk\n",
    "            dset[row_count:] = chunk[0]\n",
    "            dset2[row_count:] = chunk[1]\n",
    "\n",
    "            # Increment the row count\n",
    "            row_count += chunk[0].shape[0]\n",
    "            row_count2 += chunk[1].shape[0]\n",
    "            \n",
    "            print_progress(numer, n_files)\n",
    "        \n",
    "            numer += 1"
   ]
  },
  {
   "cell_type": "markdown",
   "metadata": {
    "colab_type": "text",
    "id": "R9axnZ8dS64T"
   },
   "source": [
    "We are going to split the dataset into training set and testing. The training set is used to train the model and the test set to check the model accuracy."
   ]
  },
  {
   "cell_type": "code",
   "execution_count": 31,
   "metadata": {
    "colab": {},
    "colab_type": "code",
    "id": "wjne3svdS9Y3"
   },
   "outputs": [],
   "source": [
    "training_set = int(len(names)*0.8)\n",
    "test_set = int(len(names)*0.2)\n",
    "\n",
    "names_training = names[0:training_set]\n",
    "names_test = names[training_set:]\n",
    "\n",
    "labels_training = labels[0:training_set]\n",
    "labels_test = labels[training_set:]"
   ]
  },
  {
   "cell_type": "markdown",
   "metadata": {
    "colab_type": "text",
    "id": "xmiJi6G7TBnI"
   },
   "source": [
    "Then we are going to process all video frames through VGG16 and save the transfer values."
   ]
  },
  {
   "cell_type": "code",
   "execution_count": 32,
   "metadata": {
    "colab": {
     "base_uri": "https://localhost:8080/",
     "height": 34
    },
    "colab_type": "code",
    "id": "pyO9WP-6TER4",
    "outputId": "94209006-bfb9-470f-d418-cd2acfbdb12d"
   },
   "outputs": [
    {
     "name": "stdout",
     "output_type": "stream",
     "text": [
      "- Progress: 99.9%"
     ]
    }
   ],
   "source": [
    "make_files(training_set)"
   ]
  },
  {
   "cell_type": "code",
   "execution_count": 33,
   "metadata": {
    "colab": {
     "base_uri": "https://localhost:8080/",
     "height": 34
    },
    "colab_type": "code",
    "id": "0ThoefXUXPrS",
    "outputId": "9f4cdc1e-4bfb-4ab6-81c1-05abadc1239f"
   },
   "outputs": [
    {
     "name": "stdout",
     "output_type": "stream",
     "text": [
      "- Progress: 99.5%"
     ]
    }
   ],
   "source": [
    "make_files_test(test_set)"
   ]
  },
  {
   "cell_type": "markdown",
   "metadata": {
    "colab_type": "text",
    "id": "0s2imcRixMAr"
   },
   "source": [
    "### Load the cached transfer values into memory"
   ]
  },
  {
   "cell_type": "markdown",
   "metadata": {
    "colab_type": "text",
    "id": "RnK1JL-izzeS"
   },
   "source": [
    "In order to load the saved transfer values into RAM memory we are going to use this two functions:"
   ]
  },
  {
   "cell_type": "code",
   "execution_count": 34,
   "metadata": {
    "colab": {},
    "colab_type": "code",
    "id": "Ez0blP2z0CsF"
   },
   "outputs": [],
   "source": [
    "def process_alldata_training():\n",
    "    \n",
    "    joint_transfer=[]\n",
    "    frames_num=20\n",
    "    count = 0\n",
    "    \n",
    "    with h5py.File('prueba.h5', 'r') as f:\n",
    "            \n",
    "        X_batch = f['data'][:]\n",
    "        y_batch = f['labels'][:]\n",
    "\n",
    "    for i in range(int(len(X_batch)/frames_num)):\n",
    "        inc = count+frames_num\n",
    "        joint_transfer.append([X_batch[count:inc],y_batch[count]])\n",
    "        count =inc\n",
    "        \n",
    "    data =[]\n",
    "    target=[]\n",
    "    \n",
    "    for i in joint_transfer:\n",
    "        data.append(i[0])\n",
    "        target.append(np.array(i[1]))\n",
    "        \n",
    "    return data, target"
   ]
  },
  {
   "cell_type": "code",
   "execution_count": 35,
   "metadata": {
    "colab": {},
    "colab_type": "code",
    "id": "Dne2XaQ90MGk"
   },
   "outputs": [],
   "source": [
    "def process_alldata_test():\n",
    "    \n",
    "    joint_transfer=[]\n",
    "    frames_num=20\n",
    "    count = 0\n",
    "    \n",
    "    with h5py.File('pruebavalidation.h5', 'r') as f:\n",
    "            \n",
    "        X_batch = f['data'][:]\n",
    "        y_batch = f['labels'][:]\n",
    "\n",
    "    for i in range(int(len(X_batch)/frames_num)):\n",
    "        inc = count+frames_num\n",
    "        joint_transfer.append([X_batch[count:inc],y_batch[count]])\n",
    "        count =inc\n",
    "        \n",
    "    data =[]\n",
    "    target=[]\n",
    "    \n",
    "    for i in joint_transfer:\n",
    "        data.append(i[0])\n",
    "        target.append(np.array(i[1]))\n",
    "        \n",
    "    return data, target"
   ]
  },
  {
   "cell_type": "code",
   "execution_count": 36,
   "metadata": {
    "colab": {},
    "colab_type": "code",
    "id": "phyhoYc67VW8"
   },
   "outputs": [],
   "source": [
    "data, target = process_alldata_training()"
   ]
  },
  {
   "cell_type": "code",
   "execution_count": 37,
   "metadata": {
    "colab": {},
    "colab_type": "code",
    "id": "dJpXHvEg7Xhc"
   },
   "outputs": [],
   "source": [
    "data_test, target_test = process_alldata_test()"
   ]
  },
  {
   "cell_type": "markdown",
   "metadata": {
    "colab_type": "text",
    "id": "HAgSUeVu58N_"
   },
   "source": [
    "The first input dimension of LSTM neurons is the temporal dimension, in our case it is 20. The second is the size of the features vector (transfer values).\n"
   ]
  },
  {
   "cell_type": "code",
   "execution_count": 38,
   "metadata": {
    "colab": {},
    "colab_type": "code",
    "id": "XWABZ91b6f7l"
   },
   "outputs": [],
   "source": [
    "chunk_size = 4096\n",
    "n_chunks = 20\n",
    "rnn_size = 512\n",
    "\n",
    "model = Sequential()\n",
    "model.add(LSTM(rnn_size, input_shape=(n_chunks, chunk_size)))\n",
    "model.add(Dense(1024))\n",
    "model.add(Activation('relu'))\n",
    "model.add(Dense(50))\n",
    "model.add(Activation('sigmoid'))\n",
    "model.add(Dense(2))\n",
    "model.add(Activation('softmax'))\n",
    "model.compile(loss='mean_squared_error', optimizer='adam',metrics=['accuracy'])"
   ]
  },
  {
   "cell_type": "code",
   "execution_count": 49,
   "metadata": {},
   "outputs": [
    {
     "name": "stdout",
     "output_type": "stream",
     "text": [
      "Model: \"sequential\"\n",
      "_________________________________________________________________\n",
      "Layer (type)                 Output Shape              Param #   \n",
      "=================================================================\n",
      "lstm (LSTM)                  (None, 512)               9439232   \n",
      "_________________________________________________________________\n",
      "dense (Dense)                (None, 1024)              525312    \n",
      "_________________________________________________________________\n",
      "activation (Activation)      (None, 1024)              0         \n",
      "_________________________________________________________________\n",
      "dense_1 (Dense)              (None, 50)                51250     \n",
      "_________________________________________________________________\n",
      "activation_1 (Activation)    (None, 50)                0         \n",
      "_________________________________________________________________\n",
      "dense_2 (Dense)              (None, 2)                 102       \n",
      "_________________________________________________________________\n",
      "activation_2 (Activation)    (None, 2)                 0         \n",
      "=================================================================\n",
      "Total params: 10,015,896\n",
      "Trainable params: 10,015,896\n",
      "Non-trainable params: 0\n",
      "_________________________________________________________________\n"
     ]
    }
   ],
   "source": [
    "model.summary()"
   ]
  },
  {
   "cell_type": "markdown",
   "metadata": {
    "colab_type": "text",
    "id": "bVonOPYW7F_b"
   },
   "source": [
    "## Model training\n"
   ]
  },
  {
   "cell_type": "code",
   "execution_count": 39,
   "metadata": {
    "colab": {
     "base_uri": "https://localhost:8080/",
     "height": 6834
    },
    "colab_type": "code",
    "id": "iRZlW4ZV_ygS",
    "outputId": "c223a55f-8ccd-4e5a-f5d4-dc6a1daf2d0e"
   },
   "outputs": [
    {
     "name": "stdout",
     "output_type": "stream",
     "text": [
      "Epoch 1/200\n",
      "2/2 - 2s - loss: 0.3291 - accuracy: 0.5067 - val_loss: 0.2966 - val_accuracy: 0.4600\n",
      "Epoch 2/200\n",
      "2/2 - 2s - loss: 0.2694 - accuracy: 0.5200 - val_loss: 0.2663 - val_accuracy: 0.5400\n",
      "Epoch 3/200\n",
      "2/2 - 2s - loss: 0.2710 - accuracy: 0.5093 - val_loss: 0.2481 - val_accuracy: 0.5400\n",
      "Epoch 4/200\n",
      "2/2 - 2s - loss: 0.2488 - accuracy: 0.5120 - val_loss: 0.2608 - val_accuracy: 0.4600\n",
      "Epoch 5/200\n",
      "2/2 - 2s - loss: 0.2545 - accuracy: 0.4907 - val_loss: 0.2495 - val_accuracy: 0.4600\n",
      "Epoch 6/200\n",
      "2/2 - 2s - loss: 0.2468 - accuracy: 0.5067 - val_loss: 0.2454 - val_accuracy: 0.5400\n",
      "Epoch 7/200\n",
      "2/2 - 2s - loss: 0.2480 - accuracy: 0.5093 - val_loss: 0.2429 - val_accuracy: 0.5400\n",
      "Epoch 8/200\n",
      "2/2 - 2s - loss: 0.2433 - accuracy: 0.5093 - val_loss: 0.2417 - val_accuracy: 0.7800\n",
      "Epoch 9/200\n",
      "2/2 - 2s - loss: 0.2406 - accuracy: 0.7187 - val_loss: 0.2381 - val_accuracy: 0.7800\n",
      "Epoch 10/200\n",
      "2/2 - 2s - loss: 0.2335 - accuracy: 0.7573 - val_loss: 0.2292 - val_accuracy: 0.5400\n",
      "Epoch 11/200\n",
      "2/2 - 2s - loss: 0.2250 - accuracy: 0.6253 - val_loss: 0.2200 - val_accuracy: 0.8400\n",
      "Epoch 12/200\n",
      "2/2 - 2s - loss: 0.2105 - accuracy: 0.8827 - val_loss: 0.2039 - val_accuracy: 0.8400\n",
      "Epoch 13/200\n",
      "2/2 - 2s - loss: 0.1910 - accuracy: 0.8987 - val_loss: 0.1859 - val_accuracy: 0.8600\n",
      "Epoch 14/200\n",
      "2/2 - 2s - loss: 0.1674 - accuracy: 0.9040 - val_loss: 0.1630 - val_accuracy: 0.8800\n",
      "Epoch 15/200\n",
      "2/2 - 2s - loss: 0.1385 - accuracy: 0.9013 - val_loss: 0.1527 - val_accuracy: 0.7800\n",
      "Epoch 16/200\n",
      "2/2 - 2s - loss: 0.1182 - accuracy: 0.8773 - val_loss: 0.1296 - val_accuracy: 0.8800\n",
      "Epoch 17/200\n",
      "2/2 - 2s - loss: 0.0961 - accuracy: 0.9013 - val_loss: 0.1475 - val_accuracy: 0.7800\n",
      "Epoch 18/200\n",
      "2/2 - 2s - loss: 0.0956 - accuracy: 0.8840 - val_loss: 0.1415 - val_accuracy: 0.7600\n",
      "Epoch 19/200\n",
      "2/2 - 2s - loss: 0.1007 - accuracy: 0.8693 - val_loss: 0.1672 - val_accuracy: 0.7800\n",
      "Epoch 20/200\n",
      "2/2 - 2s - loss: 0.1031 - accuracy: 0.8587 - val_loss: 0.1179 - val_accuracy: 0.8600\n",
      "Epoch 21/200\n",
      "2/2 - 2s - loss: 0.0895 - accuracy: 0.8840 - val_loss: 0.1132 - val_accuracy: 0.8600\n",
      "Epoch 22/200\n",
      "2/2 - 2s - loss: 0.0804 - accuracy: 0.8960 - val_loss: 0.1408 - val_accuracy: 0.8200\n",
      "Epoch 23/200\n",
      "2/2 - 2s - loss: 0.0825 - accuracy: 0.8973 - val_loss: 0.1156 - val_accuracy: 0.8600\n",
      "Epoch 24/200\n",
      "2/2 - 2s - loss: 0.0852 - accuracy: 0.8920 - val_loss: 0.1067 - val_accuracy: 0.9000\n",
      "Epoch 25/200\n",
      "2/2 - 2s - loss: 0.0767 - accuracy: 0.9080 - val_loss: 0.1414 - val_accuracy: 0.8200\n",
      "Epoch 26/200\n",
      "2/2 - 2s - loss: 0.0839 - accuracy: 0.8960 - val_loss: 0.1041 - val_accuracy: 0.8800\n",
      "Epoch 27/200\n",
      "2/2 - 2s - loss: 0.0771 - accuracy: 0.9080 - val_loss: 0.1073 - val_accuracy: 0.8600\n",
      "Epoch 28/200\n",
      "2/2 - 2s - loss: 0.0784 - accuracy: 0.9027 - val_loss: 0.1217 - val_accuracy: 0.8400\n",
      "Epoch 29/200\n",
      "2/2 - 2s - loss: 0.0773 - accuracy: 0.9067 - val_loss: 0.1026 - val_accuracy: 0.9000\n",
      "Epoch 30/200\n",
      "2/2 - 2s - loss: 0.0733 - accuracy: 0.9187 - val_loss: 0.1031 - val_accuracy: 0.8600\n",
      "Epoch 31/200\n",
      "2/2 - 2s - loss: 0.0729 - accuracy: 0.9173 - val_loss: 0.1075 - val_accuracy: 0.9000\n",
      "Epoch 32/200\n",
      "2/2 - 2s - loss: 0.0726 - accuracy: 0.9093 - val_loss: 0.1013 - val_accuracy: 0.8800\n",
      "Epoch 33/200\n",
      "2/2 - 2s - loss: 0.0713 - accuracy: 0.9200 - val_loss: 0.1017 - val_accuracy: 0.8600\n",
      "Epoch 34/200\n",
      "2/2 - 2s - loss: 0.0710 - accuracy: 0.9160 - val_loss: 0.1071 - val_accuracy: 0.8800\n",
      "Epoch 35/200\n",
      "2/2 - 2s - loss: 0.0710 - accuracy: 0.9133 - val_loss: 0.0992 - val_accuracy: 0.8800\n",
      "Epoch 36/200\n",
      "2/2 - 2s - loss: 0.0688 - accuracy: 0.9187 - val_loss: 0.1008 - val_accuracy: 0.8600\n",
      "Epoch 37/200\n",
      "2/2 - 2s - loss: 0.0703 - accuracy: 0.9200 - val_loss: 0.1001 - val_accuracy: 0.9000\n",
      "Epoch 38/200\n",
      "2/2 - 2s - loss: 0.0677 - accuracy: 0.9200 - val_loss: 0.0970 - val_accuracy: 0.9000\n",
      "Epoch 39/200\n",
      "2/2 - 2s - loss: 0.0666 - accuracy: 0.9240 - val_loss: 0.0964 - val_accuracy: 0.9000\n",
      "Epoch 40/200\n",
      "2/2 - 2s - loss: 0.0657 - accuracy: 0.9240 - val_loss: 0.0959 - val_accuracy: 0.9000\n",
      "Epoch 41/200\n",
      "2/2 - 2s - loss: 0.0651 - accuracy: 0.9267 - val_loss: 0.0952 - val_accuracy: 0.9000\n",
      "Epoch 42/200\n",
      "2/2 - 2s - loss: 0.0645 - accuracy: 0.9267 - val_loss: 0.0942 - val_accuracy: 0.9000\n",
      "Epoch 43/200\n",
      "2/2 - 2s - loss: 0.0639 - accuracy: 0.9267 - val_loss: 0.0938 - val_accuracy: 0.9000\n",
      "Epoch 44/200\n",
      "2/2 - 2s - loss: 0.0632 - accuracy: 0.9267 - val_loss: 0.0931 - val_accuracy: 0.9000\n",
      "Epoch 45/200\n",
      "2/2 - 2s - loss: 0.0624 - accuracy: 0.9293 - val_loss: 0.0927 - val_accuracy: 0.9200\n",
      "Epoch 46/200\n",
      "2/2 - 2s - loss: 0.0627 - accuracy: 0.9320 - val_loss: 0.1034 - val_accuracy: 0.8600\n",
      "Epoch 47/200\n",
      "2/2 - 2s - loss: 0.0668 - accuracy: 0.9107 - val_loss: 0.0926 - val_accuracy: 0.9200\n",
      "Epoch 48/200\n",
      "2/2 - 2s - loss: 0.0635 - accuracy: 0.9307 - val_loss: 0.0942 - val_accuracy: 0.9000\n",
      "Epoch 49/200\n",
      "2/2 - 2s - loss: 0.0629 - accuracy: 0.9200 - val_loss: 0.0908 - val_accuracy: 0.9000\n",
      "Epoch 50/200\n",
      "2/2 - 2s - loss: 0.0613 - accuracy: 0.9267 - val_loss: 0.0894 - val_accuracy: 0.9200\n",
      "Epoch 51/200\n",
      "2/2 - 2s - loss: 0.0598 - accuracy: 0.9347 - val_loss: 0.1079 - val_accuracy: 0.8600\n",
      "Epoch 52/200\n",
      "2/2 - 2s - loss: 0.0621 - accuracy: 0.9187 - val_loss: 0.1148 - val_accuracy: 0.8600\n",
      "Epoch 53/200\n",
      "2/2 - 2s - loss: 0.0708 - accuracy: 0.9133 - val_loss: 0.1125 - val_accuracy: 0.8600\n",
      "Epoch 54/200\n",
      "2/2 - 2s - loss: 0.0657 - accuracy: 0.9160 - val_loss: 0.0884 - val_accuracy: 0.9200\n",
      "Epoch 55/200\n",
      "2/2 - 2s - loss: 0.0585 - accuracy: 0.9320 - val_loss: 0.0940 - val_accuracy: 0.9000\n",
      "Epoch 56/200\n",
      "2/2 - 2s - loss: 0.0606 - accuracy: 0.9280 - val_loss: 0.0886 - val_accuracy: 0.9200\n",
      "Epoch 57/200\n",
      "2/2 - 2s - loss: 0.0584 - accuracy: 0.9307 - val_loss: 0.0878 - val_accuracy: 0.9200\n",
      "Epoch 58/200\n",
      "2/2 - 2s - loss: 0.0567 - accuracy: 0.9347 - val_loss: 0.1044 - val_accuracy: 0.8600\n",
      "Epoch 59/200\n",
      "2/2 - 2s - loss: 0.0577 - accuracy: 0.9307 - val_loss: 0.1100 - val_accuracy: 0.8600\n",
      "Epoch 60/200\n",
      "2/2 - 2s - loss: 0.0660 - accuracy: 0.9173 - val_loss: 0.1162 - val_accuracy: 0.8600\n",
      "Epoch 61/200\n",
      "2/2 - 2s - loss: 0.0625 - accuracy: 0.9227 - val_loss: 0.1050 - val_accuracy: 0.8600\n",
      "Epoch 62/200\n",
      "2/2 - 2s - loss: 0.0626 - accuracy: 0.9280 - val_loss: 0.1143 - val_accuracy: 0.8600\n",
      "Epoch 63/200\n",
      "2/2 - 2s - loss: 0.0680 - accuracy: 0.9160 - val_loss: 0.0877 - val_accuracy: 0.9200\n",
      "Epoch 64/200\n",
      "2/2 - 2s - loss: 0.0651 - accuracy: 0.9173 - val_loss: 0.0942 - val_accuracy: 0.8600\n",
      "Epoch 65/200\n",
      "2/2 - 2s - loss: 0.0630 - accuracy: 0.9227 - val_loss: 0.1167 - val_accuracy: 0.8600\n",
      "Epoch 66/200\n",
      "2/2 - 2s - loss: 0.0639 - accuracy: 0.9227 - val_loss: 0.1321 - val_accuracy: 0.8200\n",
      "Epoch 67/200\n",
      "2/2 - 2s - loss: 0.0725 - accuracy: 0.9093 - val_loss: 0.1426 - val_accuracy: 0.8200\n",
      "Epoch 68/200\n",
      "2/2 - 2s - loss: 0.0791 - accuracy: 0.9000 - val_loss: 0.0865 - val_accuracy: 0.9200\n",
      "Epoch 69/200\n",
      "2/2 - 2s - loss: 0.0596 - accuracy: 0.9267 - val_loss: 0.0939 - val_accuracy: 0.9000\n",
      "Epoch 70/200\n",
      "2/2 - 2s - loss: 0.0576 - accuracy: 0.9333 - val_loss: 0.1279 - val_accuracy: 0.8600\n",
      "Epoch 71/200\n",
      "2/2 - 2s - loss: 0.0669 - accuracy: 0.9160 - val_loss: 0.0929 - val_accuracy: 0.9000\n",
      "Epoch 72/200\n",
      "2/2 - 2s - loss: 0.0636 - accuracy: 0.9267 - val_loss: 0.0870 - val_accuracy: 0.9200\n",
      "Epoch 73/200\n",
      "2/2 - 2s - loss: 0.0602 - accuracy: 0.9307 - val_loss: 0.1203 - val_accuracy: 0.8600\n",
      "Epoch 74/200\n",
      "2/2 - 2s - loss: 0.0616 - accuracy: 0.9280 - val_loss: 0.0982 - val_accuracy: 0.8800\n",
      "Epoch 75/200\n",
      "2/2 - 2s - loss: 0.0609 - accuracy: 0.9307 - val_loss: 0.1019 - val_accuracy: 0.8600\n",
      "Epoch 76/200\n",
      "2/2 - 2s - loss: 0.0636 - accuracy: 0.9200 - val_loss: 0.1042 - val_accuracy: 0.8600\n",
      "Epoch 77/200\n",
      "2/2 - 2s - loss: 0.0583 - accuracy: 0.9307 - val_loss: 0.0936 - val_accuracy: 0.9000\n",
      "Epoch 78/200\n",
      "2/2 - 2s - loss: 0.0552 - accuracy: 0.9373 - val_loss: 0.1001 - val_accuracy: 0.8600\n",
      "Epoch 79/200\n",
      "2/2 - 2s - loss: 0.0549 - accuracy: 0.9347 - val_loss: 0.0894 - val_accuracy: 0.9200\n",
      "Epoch 80/200\n",
      "2/2 - 2s - loss: 0.0514 - accuracy: 0.9427 - val_loss: 0.0890 - val_accuracy: 0.9200\n",
      "Epoch 81/200\n",
      "2/2 - 2s - loss: 0.0537 - accuracy: 0.9360 - val_loss: 0.0908 - val_accuracy: 0.9000\n",
      "Epoch 82/200\n",
      "2/2 - 2s - loss: 0.0508 - accuracy: 0.9427 - val_loss: 0.0866 - val_accuracy: 0.9200\n",
      "Epoch 83/200\n",
      "2/2 - 2s - loss: 0.0499 - accuracy: 0.9440 - val_loss: 0.0866 - val_accuracy: 0.9200\n",
      "Epoch 84/200\n",
      "2/2 - 2s - loss: 0.0505 - accuracy: 0.9427 - val_loss: 0.0860 - val_accuracy: 0.9200\n"
     ]
    },
    {
     "name": "stdout",
     "output_type": "stream",
     "text": [
      "Epoch 85/200\n",
      "2/2 - 2s - loss: 0.0494 - accuracy: 0.9440 - val_loss: 0.0866 - val_accuracy: 0.9200\n",
      "Epoch 86/200\n",
      "2/2 - 2s - loss: 0.0495 - accuracy: 0.9440 - val_loss: 0.0882 - val_accuracy: 0.9200\n",
      "Epoch 87/200\n",
      "2/2 - 2s - loss: 0.0494 - accuracy: 0.9427 - val_loss: 0.0873 - val_accuracy: 0.9200\n",
      "Epoch 88/200\n",
      "2/2 - 2s - loss: 0.0500 - accuracy: 0.9413 - val_loss: 0.0863 - val_accuracy: 0.9200\n",
      "Epoch 89/200\n",
      "2/2 - 2s - loss: 0.0512 - accuracy: 0.9440 - val_loss: 0.0907 - val_accuracy: 0.9000\n",
      "Epoch 90/200\n",
      "2/2 - 2s - loss: 0.0485 - accuracy: 0.9440 - val_loss: 0.0951 - val_accuracy: 0.8800\n",
      "Epoch 91/200\n",
      "2/2 - 2s - loss: 0.0501 - accuracy: 0.9440 - val_loss: 0.0869 - val_accuracy: 0.9200\n",
      "Epoch 92/200\n",
      "2/2 - 2s - loss: 0.0463 - accuracy: 0.9520 - val_loss: 0.0937 - val_accuracy: 0.8800\n",
      "Epoch 93/200\n",
      "2/2 - 2s - loss: 0.0465 - accuracy: 0.9507 - val_loss: 0.0883 - val_accuracy: 0.9200\n",
      "Epoch 94/200\n",
      "2/2 - 2s - loss: 0.0479 - accuracy: 0.9480 - val_loss: 0.0958 - val_accuracy: 0.8800\n",
      "Epoch 95/200\n",
      "2/2 - 2s - loss: 0.0472 - accuracy: 0.9493 - val_loss: 0.0865 - val_accuracy: 0.9200\n",
      "Epoch 96/200\n",
      "2/2 - 2s - loss: 0.0466 - accuracy: 0.9493 - val_loss: 0.0944 - val_accuracy: 0.8800\n",
      "Epoch 97/200\n",
      "2/2 - 2s - loss: 0.0469 - accuracy: 0.9480 - val_loss: 0.0865 - val_accuracy: 0.9200\n",
      "Epoch 98/200\n",
      "2/2 - 2s - loss: 0.0450 - accuracy: 0.9520 - val_loss: 0.0865 - val_accuracy: 0.9200\n",
      "Epoch 99/200\n",
      "2/2 - 2s - loss: 0.0444 - accuracy: 0.9507 - val_loss: 0.0978 - val_accuracy: 0.8800\n",
      "Epoch 100/200\n",
      "2/2 - 2s - loss: 0.0472 - accuracy: 0.9493 - val_loss: 0.0873 - val_accuracy: 0.9200\n",
      "Epoch 101/200\n",
      "2/2 - 2s - loss: 0.0441 - accuracy: 0.9520 - val_loss: 0.0872 - val_accuracy: 0.9200\n",
      "Epoch 102/200\n",
      "2/2 - 2s - loss: 0.0437 - accuracy: 0.9533 - val_loss: 0.0892 - val_accuracy: 0.9000\n",
      "Epoch 103/200\n",
      "2/2 - 2s - loss: 0.0441 - accuracy: 0.9533 - val_loss: 0.0873 - val_accuracy: 0.9200\n",
      "Epoch 104/200\n",
      "2/2 - 2s - loss: 0.0444 - accuracy: 0.9560 - val_loss: 0.0968 - val_accuracy: 0.8800\n",
      "Epoch 105/200\n",
      "2/2 - 2s - loss: 0.0452 - accuracy: 0.9493 - val_loss: 0.0880 - val_accuracy: 0.9200\n",
      "Epoch 106/200\n",
      "2/2 - 2s - loss: 0.0445 - accuracy: 0.9560 - val_loss: 0.0938 - val_accuracy: 0.8800\n",
      "Epoch 107/200\n",
      "2/2 - 2s - loss: 0.0435 - accuracy: 0.9533 - val_loss: 0.0873 - val_accuracy: 0.9200\n",
      "Epoch 108/200\n",
      "2/2 - 2s - loss: 0.0432 - accuracy: 0.9547 - val_loss: 0.0976 - val_accuracy: 0.8800\n",
      "Epoch 109/200\n",
      "2/2 - 2s - loss: 0.0447 - accuracy: 0.9507 - val_loss: 0.0892 - val_accuracy: 0.9200\n",
      "Epoch 110/200\n",
      "2/2 - 2s - loss: 0.0453 - accuracy: 0.9520 - val_loss: 0.0898 - val_accuracy: 0.9000\n",
      "Epoch 111/200\n",
      "2/2 - 2s - loss: 0.0418 - accuracy: 0.9573 - val_loss: 0.0879 - val_accuracy: 0.9200\n",
      "Epoch 112/200\n",
      "2/2 - 2s - loss: 0.0419 - accuracy: 0.9547 - val_loss: 0.0894 - val_accuracy: 0.9000\n",
      "Epoch 113/200\n",
      "2/2 - 2s - loss: 0.0417 - accuracy: 0.9560 - val_loss: 0.0909 - val_accuracy: 0.9000\n",
      "Epoch 114/200\n",
      "2/2 - 2s - loss: 0.0417 - accuracy: 0.9560 - val_loss: 0.0881 - val_accuracy: 0.9200\n",
      "Epoch 115/200\n",
      "2/2 - 2s - loss: 0.0415 - accuracy: 0.9573 - val_loss: 0.0890 - val_accuracy: 0.9000\n",
      "Epoch 116/200\n",
      "2/2 - 2s - loss: 0.0411 - accuracy: 0.9560 - val_loss: 0.0887 - val_accuracy: 0.9200\n",
      "Epoch 117/200\n",
      "2/2 - 2s - loss: 0.0419 - accuracy: 0.9547 - val_loss: 0.0931 - val_accuracy: 0.9000\n",
      "Epoch 118/200\n",
      "2/2 - 2s - loss: 0.0435 - accuracy: 0.9547 - val_loss: 0.1193 - val_accuracy: 0.8400\n",
      "Epoch 119/200\n",
      "2/2 - 2s - loss: 0.0488 - accuracy: 0.9427 - val_loss: 0.1113 - val_accuracy: 0.8600\n",
      "Epoch 120/200\n",
      "2/2 - 2s - loss: 0.0603 - accuracy: 0.9213 - val_loss: 0.0981 - val_accuracy: 0.8800\n",
      "Epoch 121/200\n",
      "2/2 - 2s - loss: 0.0471 - accuracy: 0.9453 - val_loss: 0.0886 - val_accuracy: 0.9200\n",
      "Epoch 122/200\n",
      "2/2 - 2s - loss: 0.0459 - accuracy: 0.9533 - val_loss: 0.0937 - val_accuracy: 0.9000\n",
      "Epoch 123/200\n",
      "2/2 - 2s - loss: 0.0449 - accuracy: 0.9467 - val_loss: 0.0881 - val_accuracy: 0.9200\n",
      "Epoch 124/200\n",
      "2/2 - 2s - loss: 0.0469 - accuracy: 0.9467 - val_loss: 0.0919 - val_accuracy: 0.9000\n",
      "Epoch 125/200\n",
      "2/2 - 2s - loss: 0.0431 - accuracy: 0.9520 - val_loss: 0.0887 - val_accuracy: 0.9000\n",
      "Epoch 126/200\n",
      "2/2 - 2s - loss: 0.0413 - accuracy: 0.9533 - val_loss: 0.0912 - val_accuracy: 0.9000\n",
      "Epoch 127/200\n",
      "2/2 - 2s - loss: 0.0412 - accuracy: 0.9573 - val_loss: 0.0874 - val_accuracy: 0.9200\n",
      "Epoch 128/200\n",
      "2/2 - 2s - loss: 0.0406 - accuracy: 0.9573 - val_loss: 0.0886 - val_accuracy: 0.9000\n",
      "Epoch 129/200\n",
      "2/2 - 2s - loss: 0.0394 - accuracy: 0.9600 - val_loss: 0.0913 - val_accuracy: 0.9000\n",
      "Epoch 130/200\n",
      "2/2 - 2s - loss: 0.0419 - accuracy: 0.9560 - val_loss: 0.0971 - val_accuracy: 0.8800\n",
      "Epoch 131/200\n",
      "2/2 - 2s - loss: 0.0410 - accuracy: 0.9533 - val_loss: 0.0920 - val_accuracy: 0.9000\n",
      "Epoch 132/200\n",
      "2/2 - 2s - loss: 0.0411 - accuracy: 0.9573 - val_loss: 0.1071 - val_accuracy: 0.8800\n",
      "Epoch 133/200\n",
      "2/2 - 2s - loss: 0.0449 - accuracy: 0.9507 - val_loss: 0.1052 - val_accuracy: 0.8800\n",
      "Epoch 134/200\n",
      "2/2 - 2s - loss: 0.0478 - accuracy: 0.9440 - val_loss: 0.0993 - val_accuracy: 0.8800\n",
      "Epoch 135/200\n",
      "2/2 - 2s - loss: 0.0415 - accuracy: 0.9533 - val_loss: 0.0891 - val_accuracy: 0.9000\n",
      "Epoch 136/200\n",
      "2/2 - 2s - loss: 0.0401 - accuracy: 0.9613 - val_loss: 0.0901 - val_accuracy: 0.9000\n",
      "Epoch 137/200\n",
      "2/2 - 2s - loss: 0.0391 - accuracy: 0.9573 - val_loss: 0.0880 - val_accuracy: 0.9200\n",
      "Epoch 138/200\n",
      "2/2 - 2s - loss: 0.0404 - accuracy: 0.9560 - val_loss: 0.0878 - val_accuracy: 0.9200\n",
      "Epoch 139/200\n",
      "2/2 - 2s - loss: 0.0382 - accuracy: 0.9600 - val_loss: 0.0898 - val_accuracy: 0.9000\n",
      "Epoch 140/200\n",
      "2/2 - 2s - loss: 0.0407 - accuracy: 0.9587 - val_loss: 0.0878 - val_accuracy: 0.9200\n",
      "Epoch 141/200\n",
      "2/2 - 2s - loss: 0.0381 - accuracy: 0.9613 - val_loss: 0.0883 - val_accuracy: 0.9200\n",
      "Epoch 142/200\n",
      "2/2 - 2s - loss: 0.0377 - accuracy: 0.9600 - val_loss: 0.0905 - val_accuracy: 0.9000\n",
      "Epoch 143/200\n",
      "2/2 - 2s - loss: 0.0377 - accuracy: 0.9587 - val_loss: 0.0904 - val_accuracy: 0.9000\n",
      "Epoch 144/200\n",
      "2/2 - 2s - loss: 0.0395 - accuracy: 0.9587 - val_loss: 0.0905 - val_accuracy: 0.9000\n",
      "Epoch 145/200\n",
      "2/2 - 2s - loss: 0.0369 - accuracy: 0.9627 - val_loss: 0.0970 - val_accuracy: 0.8800\n",
      "Epoch 146/200\n",
      "2/2 - 2s - loss: 0.0458 - accuracy: 0.9507 - val_loss: 0.0897 - val_accuracy: 0.9000\n",
      "Epoch 147/200\n",
      "2/2 - 2s - loss: 0.0388 - accuracy: 0.9627 - val_loss: 0.0988 - val_accuracy: 0.8800\n",
      "Epoch 148/200\n",
      "2/2 - 2s - loss: 0.0413 - accuracy: 0.9547 - val_loss: 0.0985 - val_accuracy: 0.8800\n",
      "Epoch 149/200\n",
      "2/2 - 2s - loss: 0.0414 - accuracy: 0.9573 - val_loss: 0.1001 - val_accuracy: 0.8800\n",
      "Epoch 150/200\n",
      "2/2 - 2s - loss: 0.0388 - accuracy: 0.9587 - val_loss: 0.1014 - val_accuracy: 0.8800\n",
      "Epoch 151/200\n",
      "2/2 - 2s - loss: 0.0429 - accuracy: 0.9520 - val_loss: 0.0978 - val_accuracy: 0.8800\n",
      "Epoch 152/200\n",
      "2/2 - 2s - loss: 0.0403 - accuracy: 0.9547 - val_loss: 0.0891 - val_accuracy: 0.9000\n",
      "Epoch 153/200\n",
      "2/2 - 2s - loss: 0.0364 - accuracy: 0.9627 - val_loss: 0.0913 - val_accuracy: 0.9000\n",
      "Epoch 154/200\n",
      "2/2 - 2s - loss: 0.0363 - accuracy: 0.9613 - val_loss: 0.0939 - val_accuracy: 0.8800\n",
      "Epoch 155/200\n",
      "2/2 - 2s - loss: 0.0404 - accuracy: 0.9560 - val_loss: 0.0911 - val_accuracy: 0.9000\n",
      "Epoch 156/200\n",
      "2/2 - 2s - loss: 0.0383 - accuracy: 0.9600 - val_loss: 0.0945 - val_accuracy: 0.9000\n",
      "Epoch 157/200\n",
      "2/2 - 2s - loss: 0.0374 - accuracy: 0.9587 - val_loss: 0.0893 - val_accuracy: 0.9000\n",
      "Epoch 158/200\n",
      "2/2 - 2s - loss: 0.0357 - accuracy: 0.9653 - val_loss: 0.0897 - val_accuracy: 0.9200\n",
      "Epoch 159/200\n",
      "2/2 - 2s - loss: 0.0355 - accuracy: 0.9653 - val_loss: 0.1004 - val_accuracy: 0.8800\n",
      "Epoch 160/200\n",
      "2/2 - 2s - loss: 0.0372 - accuracy: 0.9613 - val_loss: 0.0960 - val_accuracy: 0.8800\n",
      "Epoch 161/200\n",
      "2/2 - 2s - loss: 0.0390 - accuracy: 0.9640 - val_loss: 0.0937 - val_accuracy: 0.9000\n",
      "Epoch 162/200\n",
      "2/2 - 2s - loss: 0.0381 - accuracy: 0.9600 - val_loss: 0.0954 - val_accuracy: 0.9000\n",
      "Epoch 163/200\n",
      "2/2 - 2s - loss: 0.0393 - accuracy: 0.9587 - val_loss: 0.1032 - val_accuracy: 0.8800\n",
      "Epoch 164/200\n",
      "2/2 - 2s - loss: 0.0405 - accuracy: 0.9587 - val_loss: 0.1179 - val_accuracy: 0.8600\n",
      "Epoch 165/200\n",
      "2/2 - 2s - loss: 0.0412 - accuracy: 0.9520 - val_loss: 0.1373 - val_accuracy: 0.8200\n",
      "Epoch 166/200\n",
      "2/2 - 2s - loss: 0.0596 - accuracy: 0.9253 - val_loss: 0.1121 - val_accuracy: 0.8800\n",
      "Epoch 167/200\n",
      "2/2 - 2s - loss: 0.0409 - accuracy: 0.9547 - val_loss: 0.0986 - val_accuracy: 0.8800\n"
     ]
    },
    {
     "name": "stdout",
     "output_type": "stream",
     "text": [
      "Epoch 168/200\n",
      "2/2 - 2s - loss: 0.0370 - accuracy: 0.9613 - val_loss: 0.1141 - val_accuracy: 0.8600\n",
      "Epoch 169/200\n",
      "2/2 - 2s - loss: 0.0410 - accuracy: 0.9560 - val_loss: 0.1038 - val_accuracy: 0.8800\n",
      "Epoch 170/200\n",
      "2/2 - 2s - loss: 0.0404 - accuracy: 0.9560 - val_loss: 0.1049 - val_accuracy: 0.8800\n",
      "Epoch 171/200\n",
      "2/2 - 2s - loss: 0.0373 - accuracy: 0.9587 - val_loss: 0.0962 - val_accuracy: 0.8800\n",
      "Epoch 172/200\n",
      "2/2 - 2s - loss: 0.0368 - accuracy: 0.9627 - val_loss: 0.1079 - val_accuracy: 0.8800\n",
      "Epoch 173/200\n",
      "2/2 - 2s - loss: 0.0383 - accuracy: 0.9600 - val_loss: 0.0929 - val_accuracy: 0.8800\n",
      "Epoch 174/200\n",
      "2/2 - 2s - loss: 0.0367 - accuracy: 0.9627 - val_loss: 0.1274 - val_accuracy: 0.8400\n",
      "Epoch 175/200\n",
      "2/2 - 2s - loss: 0.0487 - accuracy: 0.9360 - val_loss: 0.1088 - val_accuracy: 0.8800\n",
      "Epoch 176/200\n",
      "2/2 - 2s - loss: 0.0438 - accuracy: 0.9493 - val_loss: 0.1037 - val_accuracy: 0.8800\n",
      "Epoch 177/200\n",
      "2/2 - 2s - loss: 0.0369 - accuracy: 0.9587 - val_loss: 0.0909 - val_accuracy: 0.9000\n",
      "Epoch 178/200\n",
      "2/2 - 2s - loss: 0.0372 - accuracy: 0.9587 - val_loss: 0.0889 - val_accuracy: 0.9000\n",
      "Epoch 179/200\n",
      "2/2 - 2s - loss: 0.0340 - accuracy: 0.9653 - val_loss: 0.0890 - val_accuracy: 0.9000\n",
      "Epoch 180/200\n",
      "2/2 - 2s - loss: 0.0339 - accuracy: 0.9653 - val_loss: 0.0897 - val_accuracy: 0.9000\n",
      "Epoch 181/200\n",
      "2/2 - 2s - loss: 0.0342 - accuracy: 0.9653 - val_loss: 0.0928 - val_accuracy: 0.9000\n",
      "Epoch 182/200\n",
      "2/2 - 2s - loss: 0.0341 - accuracy: 0.9653 - val_loss: 0.0914 - val_accuracy: 0.9000\n",
      "Epoch 183/200\n",
      "2/2 - 2s - loss: 0.0358 - accuracy: 0.9653 - val_loss: 0.1204 - val_accuracy: 0.8600\n",
      "Epoch 184/200\n",
      "2/2 - 2s - loss: 0.0414 - accuracy: 0.9520 - val_loss: 0.1325 - val_accuracy: 0.8400\n",
      "Epoch 185/200\n",
      "2/2 - 2s - loss: 0.0547 - accuracy: 0.9320 - val_loss: 0.1298 - val_accuracy: 0.8600\n",
      "Epoch 186/200\n",
      "2/2 - 2s - loss: 0.0505 - accuracy: 0.9320 - val_loss: 0.0902 - val_accuracy: 0.9000\n",
      "Epoch 187/200\n",
      "2/2 - 2s - loss: 0.0352 - accuracy: 0.9653 - val_loss: 0.0970 - val_accuracy: 0.9000\n",
      "Epoch 188/200\n",
      "2/2 - 2s - loss: 0.0343 - accuracy: 0.9653 - val_loss: 0.0885 - val_accuracy: 0.9000\n",
      "Epoch 189/200\n",
      "2/2 - 2s - loss: 0.0334 - accuracy: 0.9680 - val_loss: 0.1021 - val_accuracy: 0.8800\n",
      "Epoch 190/200\n",
      "2/2 - 2s - loss: 0.0351 - accuracy: 0.9640 - val_loss: 0.0903 - val_accuracy: 0.9000\n",
      "Epoch 191/200\n",
      "2/2 - 2s - loss: 0.0344 - accuracy: 0.9640 - val_loss: 0.1053 - val_accuracy: 0.8800\n",
      "Epoch 192/200\n",
      "2/2 - 2s - loss: 0.0364 - accuracy: 0.9600 - val_loss: 0.0892 - val_accuracy: 0.9000\n",
      "Epoch 193/200\n",
      "2/2 - 2s - loss: 0.0338 - accuracy: 0.9653 - val_loss: 0.0965 - val_accuracy: 0.9000\n",
      "Epoch 194/200\n",
      "2/2 - 2s - loss: 0.0333 - accuracy: 0.9667 - val_loss: 0.0882 - val_accuracy: 0.9000\n",
      "Epoch 195/200\n",
      "2/2 - 2s - loss: 0.0334 - accuracy: 0.9667 - val_loss: 0.1008 - val_accuracy: 0.8800\n",
      "Epoch 196/200\n",
      "2/2 - 2s - loss: 0.0344 - accuracy: 0.9640 - val_loss: 0.0879 - val_accuracy: 0.9200\n",
      "Epoch 197/200\n",
      "2/2 - 2s - loss: 0.0326 - accuracy: 0.9680 - val_loss: 0.0915 - val_accuracy: 0.9000\n",
      "Epoch 198/200\n",
      "2/2 - 2s - loss: 0.0325 - accuracy: 0.9680 - val_loss: 0.0886 - val_accuracy: 0.9000\n",
      "Epoch 199/200\n",
      "2/2 - 2s - loss: 0.0323 - accuracy: 0.9680 - val_loss: 0.0888 - val_accuracy: 0.9000\n",
      "Epoch 200/200\n",
      "2/2 - 2s - loss: 0.0326 - accuracy: 0.9680 - val_loss: 0.0888 - val_accuracy: 0.9200\n"
     ]
    }
   ],
   "source": [
    "epoch = 200\n",
    "batchS = 500\n",
    "history = model.fit(np.array(data[0:750]), np.array(target[0:750]), epochs=epoch,\n",
    "                    validation_data=(np.array(data[750:]), np.array(target[750:])), \n",
    "                    batch_size=batchS, verbose=2)"
   ]
  },
  {
   "cell_type": "markdown",
   "metadata": {
    "colab_type": "text",
    "id": "BVJCgz3bA4A3"
   },
   "source": [
    "## Test the model"
   ]
  },
  {
   "cell_type": "code",
   "execution_count": 40,
   "metadata": {
    "colab": {
     "base_uri": "https://localhost:8080/",
     "height": 34
    },
    "colab_type": "code",
    "id": "VDXFFy6zBG3X",
    "outputId": "6ac389f9-6400-401d-dfe7-c3e90ce8a0e4"
   },
   "outputs": [
    {
     "name": "stdout",
     "output_type": "stream",
     "text": [
      "7/7 [==============================] - 1s 190ms/step - loss: 0.0491 - accuracy: 0.9450\n"
     ]
    }
   ],
   "source": [
    "result = model.evaluate(np.array(data_test), np.array(target_test))"
   ]
  },
  {
   "cell_type": "code",
   "execution_count": 41,
   "metadata": {
    "colab": {
     "base_uri": "https://localhost:8080/",
     "height": 51
    },
    "colab_type": "code",
    "id": "wBV2t2Q6BOt9",
    "outputId": "1dadcb49-b517-4cdc-9624-cb76c529b457"
   },
   "outputs": [
    {
     "name": "stdout",
     "output_type": "stream",
     "text": [
      "loss 0.04911315068602562\n",
      "accuracy 0.9449999928474426\n"
     ]
    }
   ],
   "source": [
    "for name, value in zip(model.metrics_names, result):\n",
    "    print(name, value)"
   ]
  },
  {
   "cell_type": "code",
   "execution_count": 43,
   "metadata": {
    "colab": {
     "base_uri": "https://localhost:8080/",
     "height": 571
    },
    "colab_type": "code",
    "id": "zO6YSbxgBZ3f",
    "outputId": "f8a99f0c-2cf2-4228-f6ac-9083c39443fb"
   },
   "outputs": [
    {
     "name": "stderr",
     "output_type": "stream",
     "text": [
      "The PostScript backend does not support transparency; partially transparent artists will be rendered opaque.\n",
      "The PostScript backend does not support transparency; partially transparent artists will be rendered opaque.\n"
     ]
    },
    {
     "data": {
      "image/png": "[encoded data removed]",
      "text/plain": [
       "<Figure size 432x288 with 1 Axes>"
      ]
     },
     "metadata": {
      "needs_background": "light"
     },
     "output_type": "display_data"
    },
    {
     "name": "stderr",
     "output_type": "stream",
     "text": [
      "The PostScript backend does not support transparency; partially transparent artists will be rendered opaque.\n",
      "The PostScript backend does not support transparency; partially transparent artists will be rendered opaque.\n"
     ]
    },
    {
     "data": {
      "image/png": "[encoded data removed]",
      "text/plain": [
       "<Figure size 432x288 with 1 Axes>"
      ]
     },
     "metadata": {
      "needs_background": "light"
     },
     "output_type": "display_data"
    }
   ],
   "source": [
    "plt.plot(history.history['accuracy'])\n",
    "plt.plot(history.history['val_accuracy'])\n",
    "plt.title('model accuracy')\n",
    "plt.ylabel('accuracy')\n",
    "plt.xlabel('epoch')\n",
    "plt.legend(['train', 'validation'], loc='upper left')\n",
    "plt.savefig('destination_path.eps', format='eps', dpi=1000)\n",
    "plt.show()\n",
    "# summarize history for loss\n",
    "plt.plot(history.history['loss'])\n",
    "plt.plot(history.history['val_loss'])\n",
    "plt.title('model loss')\n",
    "plt.ylabel('loss')\n",
    "plt.xlabel('epoch')\n",
    "plt.legend(['train', 'validation'], loc='upper left')\n",
    "plt.savefig('destination_path1.eps', format='eps', dpi=1000)\n",
    "plt.show()"
   ]
  },
  {
   "cell_type": "code",
   "execution_count": 124,
   "metadata": {},
   "outputs": [],
   "source": [
    "def infer(curr_dir,file_name):\n",
    "    tr = get_transfer_values(curr_dir,file_name)\n",
    "    tr = tr[np.newaxis,...]\n",
    "    pred = model.predict(np.array(tr))\n",
    "    print(pred[0])\n",
    "    res = np.argmax(pred)\n",
    "    if res == 0:\n",
    "        print(\"Violent Video with confidence: \"+str(round(pred[0][res]*100,2))+\" %\")\n",
    "    else:\n",
    "        print(\"Non-Violent Video with confidence: \"+str(round(pred[0][res]*100,2))+\" %\")"
   ]
  },
  {
   "cell_type": "code",
   "execution_count": 131,
   "metadata": {},
   "outputs": [
    {
     "name": "stdout",
     "output_type": "stream",
     "text": [
      "[0.01168198 0.988318  ]\n",
      "Non-Violent Video with confidence: 98.83 %\n"
     ]
    }
   ],
   "source": [
    "infer(in_dir,\"no12_xvid.avi\")"
   ]
  },
  {
   "cell_type": "code",
   "execution_count": 114,
   "metadata": {},
   "outputs": [],
   "source": [
    "!mkdir model"
   ]
  },
  {
   "cell_type": "code",
   "execution_count": 115,
   "metadata": {},
   "outputs": [
    {
     "name": "stdout",
     "output_type": "stream",
     "text": [
      "WARNING:tensorflow:From C:\\anaconda3\\lib\\site-packages\\tensorflow\\python\\training\\tracking\\tracking.py:111: Model.state_updates (from tensorflow.python.keras.engine.training) is deprecated and will be removed in a future version.\n",
      "Instructions for updating:\n",
      "This property should not be used in TensorFlow 2.0, as updates are applied automatically.\n",
      "WARNING:tensorflow:From C:\\anaconda3\\lib\\site-packages\\tensorflow\\python\\training\\tracking\\tracking.py:111: Layer.updates (from tensorflow.python.keras.engine.base_layer) is deprecated and will be removed in a future version.\n",
      "Instructions for updating:\n",
      "This property should not be used in TensorFlow 2.0, as updates are applied automatically.\n",
      "INFO:tensorflow:Assets written to: model/vlstm_92\\assets\n"
     ]
    }
   ],
   "source": [
    "model.save('model/vlstm_92')"
   ]
  },
  {
   "cell_type": "code",
   "execution_count": 116,
   "metadata": {},
   "outputs": [],
   "source": [
    "model.save('model/vlstm_92.h5')"
   ]
  }
 ],
 "metadata": {
  "accelerator": "GPU",
  "colab": {
   "collapsed_sections": [],
   "name": "ViolenceDetection22",
   "provenance": [],
   "version": "0.3.2"
  },
  "kernelspec": {
   "display_name": "Python 3",
   "language": "python",
   "name": "python3"
  },
  "language_info": {
   "codemirror_mode": {
    "name": "ipython",
    "version": 3
   },
   "file_extension": ".py",
   "mimetype": "text/x-python",
   "name": "python",
   "nbconvert_exporter": "python",
   "pygments_lexer": "ipython3",
   "version": "3.8.3"
  }
 },
 "nbformat": 4,
 "nbformat_minor": 1
}
